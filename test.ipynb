{
 "cells": [
  {
   "cell_type": "code",
   "execution_count": 1,
   "metadata": {},
   "outputs": [],
   "source": [
    "from langchain.text_splitter import RecursiveCharacterTextSplitter"
   ]
  },
  {
   "cell_type": "code",
   "execution_count": 3,
   "metadata": {},
   "outputs": [],
   "source": [
    "# Read text files\n",
    "with open(\"sample.txt\",\"r\") as file:\n",
    "    data = file.read()"
   ]
  },
  {
   "cell_type": "code",
   "execution_count": 4,
   "metadata": {},
   "outputs": [
    {
     "data": {
      "text/plain": [
       "'Computer Network and Security\\nCourse Objective: To understand the concepts of computer networking, functions of different layers and protocols, and know the idea of IPV6 and security. Notes of various chapters of Computer Network compiled by teachers from IOE can be accessed from posts tagged under Computer Network.\\n\\n1. Introduction to Computer Network (5 hours)\\n1.1 Uses of Computer Network\\n1.2 Networking model client/server, p2p, active network\\n1.3 Protocols and Standards\\n1.4 OSI model and TCP/IP model\\n1.5 Comparison of OSI and TCP/IP model\\n1.6 Example network: The Internet, X.25, Frame Relay, Ethernet, VoIP, NGN and MPLS, xDSL.\\n\\n\\n2. Physical Layer (5 hours)\\n2.1 Network monitoring: delay, latency, throughput\\n2.2 Transmission media: Twisted pair, Coaxial, Fiber optic, Line-of-site, Satellite\\n2.3 Multiplexing, Circuit switching, Packet switching, VC Switching, Telecommunication switching system (Networking of Telephone exchanges)\\n2.4 ISDN: Architecture, Interface, and Signaling\\n\\n3. Data Link Layer (5 hours)\\n3.1 Functions of Data link layer\\n3.2 Framing\\n3.3 Error Detection and Corrections,\\n3.4 Flow Control\\n3.5 Examples of Data Link Protocol, HDLC, PPP\\n3.6 The Medium Access Sub-layer\\n3.7 The channel allocation problem\\n3.8 Multiple Access Protocols\\n3.9 Ethernet,\\n3.10 Networks: FDDI, ALOHA, VLAN, CSMA/CD, IEEE 802.3(Ethernet), 802.4(Token Bus), 802.5(Token Ring), and 802.1(Wireless LAN).\\n\\n4. Network Layer (9 hours)\\n4.1 Internetworking &devices: Repeaters, Hubs, Bridges, Switches, Router, Gateway\\n4.2 Addressing: Internet address, classful address\\n4.3 Subnetting\\n4.4 Routing: techniques, static vs. dynamic routing , routing table for classful address\\n4.5 Routing Protocols: RIP, OSPF, BGP, Unicast and multicast routing protocols\\n4.6 Routing algorithms: shortest path algorithm, flooding, distance vector routing, link state routing; Protocols: ARP, RARP, IP, ICMP\\n\\n5. Transport Layer (5 hours)\\n5.1 The transport service: Services provided to the upper layers\\n5.2 Transport protocols: UDP, TCP\\n5.3 Port and Socket\\n5.4 Connection establishment, Connection release\\n5.5 Flow control & buffering\\n5.6 Multiplexing & de-multiplexing\\n5.7 Congestion control algorithm: Token Bucket and Leaky BucketTransport Layer\\n\\n6. Application Layer (5 hours)\\n6.1 Web: HTTP & HTTPS\\n6.2 File Transfer: FTP, PuTTY, WinSCP\\n6.3 Electronic Mail: SMTP, POP3, IMAP\\n6.4 DNS\\n6.5 P2PApplications\\n6.6 Socket Programming\\n6.7 Application server concept: proxy caching, Web/Mail/DNS server optimization\\n6.8 Concept of traffic analyzer: MRTG, PRTG, SNMP, Packet tracer, Wireshark.\\n\\n7. Introduction to IPV6 (4 hours)\\n7.1 IPv6- Advantages\\n7.2 Packet formats\\n7.3 Extension headers\\n7.4 Transition from IPv4 to IPv6: Dual stack, Tunneling, Header Translation\\n7.5 Multicasting\\n\\n8. Network Security (7 hours)\\n8.1 Properties of secure communication\\n8.2 Principles of cryptography: Symmetric Key and Public Key\\n8.3 RSA Algorithm,\\n8.4 Digital Signatures\\n8.5 Securing e-mail (PGP)\\n8.6 Securing TCP connections (SSL)\\n8.7 Network layer security (IPsec, VPN)\\n8.8 Securing wireless LANs (WEP)\\n8.9 Firewalls: Application Gateway and Packet Filtering, and IDS'"
      ]
     },
     "execution_count": 4,
     "metadata": {},
     "output_type": "execute_result"
    }
   ],
   "source": [
    "data"
   ]
  },
  {
   "cell_type": "code",
   "execution_count": 5,
   "metadata": {},
   "outputs": [],
   "source": [
    "def chunk_text(text):\n",
    "    text_splitter = RecursiveCharacterTextSplitter(\n",
    "        separators=[\"\\n\\n\\n\", \"\\n\\n\"],  # Prioritize splitting by paragraphs, then sentences\n",
    "        chunk_size = 500,  # Maximum size of each chunk\n",
    "        chunk_overlap = 0  # Overlap to maintain context between chunks\n",
    "    )\n",
    "    chunks = text_splitter.split_text(text)\n",
    "    return chunks"
   ]
  },
  {
   "cell_type": "code",
   "execution_count": 6,
   "metadata": {},
   "outputs": [],
   "source": [
    "chunked_data = chunk_text(data)"
   ]
  },
  {
   "cell_type": "code",
   "execution_count": 7,
   "metadata": {},
   "outputs": [
    {
     "data": {
      "text/plain": [
       "['Computer Network and Security\\nCourse Objective: To understand the concepts of computer networking, functions of different layers and protocols, and know the idea of IPV6 and security. Notes of various chapters of Computer Network compiled by teachers from IOE can be accessed from posts tagged under Computer Network.',\n",
       " '1. Introduction to Computer Network (5 hours)\\n1.1 Uses of Computer Network\\n1.2 Networking model client/server, p2p, active network\\n1.3 Protocols and Standards\\n1.4 OSI model and TCP/IP model\\n1.5 Comparison of OSI and TCP/IP model\\n1.6 Example network: The Internet, X.25, Frame Relay, Ethernet, VoIP, NGN and MPLS, xDSL.',\n",
       " '2. Physical Layer (5 hours)\\n2.1 Network monitoring: delay, latency, throughput\\n2.2 Transmission media: Twisted pair, Coaxial, Fiber optic, Line-of-site, Satellite\\n2.3 Multiplexing, Circuit switching, Packet switching, VC Switching, Telecommunication switching system (Networking of Telephone exchanges)\\n2.4 ISDN: Architecture, Interface, and Signaling',\n",
       " '3. Data Link Layer (5 hours)\\n3.1 Functions of Data link layer\\n3.2 Framing\\n3.3 Error Detection and Corrections,\\n3.4 Flow Control\\n3.5 Examples of Data Link Protocol, HDLC, PPP\\n3.6 The Medium Access Sub-layer\\n3.7 The channel allocation problem\\n3.8 Multiple Access Protocols\\n3.9 Ethernet,\\n3.10 Networks: FDDI, ALOHA, VLAN, CSMA/CD, IEEE 802.3(Ethernet), 802.4(Token Bus), 802.5(Token Ring), and 802.1(Wireless LAN).',\n",
       " '4. Network Layer (9 hours)\\n4.1 Internetworking &devices: Repeaters, Hubs, Bridges, Switches, Router, Gateway\\n4.2 Addressing: Internet address, classful address\\n4.3 Subnetting\\n4.4 Routing: techniques, static vs. dynamic routing , routing table for classful address\\n4.5 Routing Protocols: RIP, OSPF, BGP, Unicast and multicast routing protocols\\n4.6 Routing algorithms: shortest path algorithm, flooding, distance vector routing, link state routing; Protocols: ARP, RARP, IP, ICMP',\n",
       " '5. Transport Layer (5 hours)\\n5.1 The transport service: Services provided to the upper layers\\n5.2 Transport protocols: UDP, TCP\\n5.3 Port and Socket\\n5.4 Connection establishment, Connection release\\n5.5 Flow control & buffering\\n5.6 Multiplexing & de-multiplexing\\n5.7 Congestion control algorithm: Token Bucket and Leaky BucketTransport Layer',\n",
       " '6. Application Layer (5 hours)\\n6.1 Web: HTTP & HTTPS\\n6.2 File Transfer: FTP, PuTTY, WinSCP\\n6.3 Electronic Mail: SMTP, POP3, IMAP\\n6.4 DNS\\n6.5 P2PApplications\\n6.6 Socket Programming\\n6.7 Application server concept: proxy caching, Web/Mail/DNS server optimization\\n6.8 Concept of traffic analyzer: MRTG, PRTG, SNMP, Packet tracer, Wireshark.',\n",
       " '7. Introduction to IPV6 (4 hours)\\n7.1 IPv6- Advantages\\n7.2 Packet formats\\n7.3 Extension headers\\n7.4 Transition from IPv4 to IPv6: Dual stack, Tunneling, Header Translation\\n7.5 Multicasting',\n",
       " '8. Network Security (7 hours)\\n8.1 Properties of secure communication\\n8.2 Principles of cryptography: Symmetric Key and Public Key\\n8.3 RSA Algorithm,\\n8.4 Digital Signatures\\n8.5 Securing e-mail (PGP)\\n8.6 Securing TCP connections (SSL)\\n8.7 Network layer security (IPsec, VPN)\\n8.8 Securing wireless LANs (WEP)\\n8.9 Firewalls: Application Gateway and Packet Filtering, and IDS']"
      ]
     },
     "execution_count": 7,
     "metadata": {},
     "output_type": "execute_result"
    }
   ],
   "source": [
    "chunked_data"
   ]
  },
  {
   "cell_type": "code",
   "execution_count": 11,
   "metadata": {},
   "outputs": [
    {
     "data": {
      "text/plain": [
       "'1. Introduction to Computer Network (5 hours)\\n1.1 Uses of Computer Network\\n1.2 Networking model client/server, p2p, active network\\n1.3 Protocols and Standards\\n1.4 OSI model and TCP/IP model\\n1.5 Comparison of OSI and TCP/IP model\\n1.6 Example network: The Internet, X.25, Frame Relay, Ethernet, VoIP, NGN and MPLS, xDSL.'"
      ]
     },
     "execution_count": 11,
     "metadata": {},
     "output_type": "execute_result"
    }
   ],
   "source": [
    "chunked_data[1]"
   ]
  },
  {
   "cell_type": "code",
   "execution_count": 12,
   "metadata": {},
   "outputs": [],
   "source": [
    "import json\n",
    "# Reading api_key\n",
    "class Variables:\n",
    "    @staticmethod\n",
    "    def get_variable(var_name):\n",
    "        try:\n",
    "            with open(\"config.cfg\") as file:\n",
    "                file_content = json.loads(file.read())\n",
    "                return file_content[var_name]\n",
    "        except Exception as e:\n",
    "            print(f\"[Error]: {e}\")"
   ]
  },
  {
   "cell_type": "code",
   "execution_count": 14,
   "metadata": {},
   "outputs": [],
   "source": [
    "query = \"Computer Networks\""
   ]
  },
  {
   "cell_type": "code",
   "execution_count": 28,
   "metadata": {},
   "outputs": [],
   "source": [
    "import requests\n",
    "url = f\"https://www.googleapis.com/books/v1/volumes?q={query}&printType=books&key={Variables.get_variable(\"books_api_key\")}\"\n",
    "response = requests.get(url)\n"
   ]
  },
  {
   "cell_type": "code",
   "execution_count": 29,
   "metadata": {},
   "outputs": [
    {
     "data": {
      "text/plain": [
       "{'kind': 'books#volumes',\n",
       " 'totalItems': 546,\n",
       " 'items': [{'kind': 'books#volume',\n",
       "   'id': 'b2HyGSu46lQC',\n",
       "   'etag': 'ooQT9rCDIeg',\n",
       "   'selfLink': 'https://www.googleapis.com/books/v1/volumes/b2HyGSu46lQC',\n",
       "   'volumeInfo': {'title': 'Computer Networks',\n",
       "    'authors': ['Tanenbaum'],\n",
       "    'publisher': 'Pearson Education India',\n",
       "    'publishedDate': '1999',\n",
       "    'description': 'On computer networks',\n",
       "    'industryIdentifiers': [{'type': 'ISBN_10', 'identifier': '8131701980'},\n",
       "     {'type': 'ISBN_13', 'identifier': '9788131701980'}],\n",
       "    'readingModes': {'text': False, 'image': True},\n",
       "    'pageCount': 836,\n",
       "    'printType': 'BOOK',\n",
       "    'categories': ['Communication satellites'],\n",
       "    'averageRating': 4,\n",
       "    'ratingsCount': 5,\n",
       "    'maturityRating': 'NOT_MATURE',\n",
       "    'allowAnonLogging': False,\n",
       "    'contentVersion': '4.6.7.0.preview.1',\n",
       "    'panelizationSummary': {'containsEpubBubbles': False,\n",
       "     'containsImageBubbles': False},\n",
       "    'imageLinks': {'smallThumbnail': 'http://books.google.com/books/content?id=b2HyGSu46lQC&printsec=frontcover&img=1&zoom=5&edge=curl&source=gbs_api',\n",
       "     'thumbnail': 'http://books.google.com/books/content?id=b2HyGSu46lQC&printsec=frontcover&img=1&zoom=1&edge=curl&source=gbs_api'},\n",
       "    'language': 'en',\n",
       "    'previewLink': 'http://books.google.com/books?id=b2HyGSu46lQC&printsec=frontcover&dq=Computer+Networks&hl=&as_pt=BOOKS&cd=1&source=gbs_api',\n",
       "    'infoLink': 'http://books.google.com/books?id=b2HyGSu46lQC&dq=Computer+Networks&hl=&as_pt=BOOKS&source=gbs_api',\n",
       "    'canonicalVolumeLink': 'https://books.google.com/books/about/Computer_Networks.html?hl=&id=b2HyGSu46lQC'},\n",
       "   'saleInfo': {'country': 'NP',\n",
       "    'saleability': 'NOT_FOR_SALE',\n",
       "    'isEbook': False},\n",
       "   'accessInfo': {'country': 'NP',\n",
       "    'viewability': 'PARTIAL',\n",
       "    'embeddable': True,\n",
       "    'publicDomain': False,\n",
       "    'textToSpeechPermission': 'ALLOWED',\n",
       "    'epub': {'isAvailable': False},\n",
       "    'pdf': {'isAvailable': True,\n",
       "     'acsTokenLink': 'http://books.google.com/books/download/Computer_Networks-sample-pdf.acsm?id=b2HyGSu46lQC&format=pdf&output=acs4_fulfillment_token&dl_type=sample&source=gbs_api'},\n",
       "    'webReaderLink': 'http://play.google.com/books/reader?id=b2HyGSu46lQC&hl=&as_pt=BOOKS&source=gbs_api',\n",
       "    'accessViewStatus': 'SAMPLE',\n",
       "    'quoteSharingAllowed': False},\n",
       "   'searchInfo': {'textSnippet': 'On computer networks'}},\n",
       "  {'kind': 'books#volume',\n",
       "   'id': 'Fnz2qDpofqEC',\n",
       "   'etag': 'S6eJJ/qIjPo',\n",
       "   'selfLink': 'https://www.googleapis.com/books/v1/volumes/Fnz2qDpofqEC',\n",
       "   'volumeInfo': {'title': 'Basics of Computer Networking',\n",
       "    'authors': ['Thomas Robertazzi'],\n",
       "    'publisher': 'Springer Science & Business Media',\n",
       "    'publishedDate': '2011-11-04',\n",
       "    'description': 'Springer Brief Basics of Computer Networking provides a non-mathematical introduction to the world of networks. This book covers both technology for wired and wireless networks. Coverage includes transmission media, local area networks, wide area networks, and network security. Written in a very accessible style for the interested layman by the author of a widely used textbook with many years of experience explaining concepts to the beginner.',\n",
       "    'industryIdentifiers': [{'type': 'ISBN_13', 'identifier': '9781461421047'},\n",
       "     {'type': 'ISBN_10', 'identifier': '1461421047'}],\n",
       "    'readingModes': {'text': True, 'image': True},\n",
       "    'pageCount': 88,\n",
       "    'printType': 'BOOK',\n",
       "    'categories': ['Technology & Engineering'],\n",
       "    'maturityRating': 'NOT_MATURE',\n",
       "    'allowAnonLogging': False,\n",
       "    'contentVersion': '1.10.9.0.preview.3',\n",
       "    'panelizationSummary': {'containsEpubBubbles': False,\n",
       "     'containsImageBubbles': False},\n",
       "    'imageLinks': {'smallThumbnail': 'http://books.google.com/books/content?id=Fnz2qDpofqEC&printsec=frontcover&img=1&zoom=5&edge=curl&source=gbs_api',\n",
       "     'thumbnail': 'http://books.google.com/books/content?id=Fnz2qDpofqEC&printsec=frontcover&img=1&zoom=1&edge=curl&source=gbs_api'},\n",
       "    'language': 'en',\n",
       "    'previewLink': 'http://books.google.com/books?id=Fnz2qDpofqEC&printsec=frontcover&dq=Computer+Networks&hl=&as_pt=BOOKS&cd=2&source=gbs_api',\n",
       "    'infoLink': 'http://books.google.com/books?id=Fnz2qDpofqEC&dq=Computer+Networks&hl=&as_pt=BOOKS&source=gbs_api',\n",
       "    'canonicalVolumeLink': 'https://books.google.com/books/about/Basics_of_Computer_Networking.html?hl=&id=Fnz2qDpofqEC'},\n",
       "   'saleInfo': {'country': 'NP',\n",
       "    'saleability': 'NOT_FOR_SALE',\n",
       "    'isEbook': False},\n",
       "   'accessInfo': {'country': 'NP',\n",
       "    'viewability': 'PARTIAL',\n",
       "    'embeddable': True,\n",
       "    'publicDomain': False,\n",
       "    'textToSpeechPermission': 'ALLOWED',\n",
       "    'epub': {'isAvailable': True,\n",
       "     'acsTokenLink': 'http://books.google.com/books/download/Basics_of_Computer_Networking-sample-epub.acsm?id=Fnz2qDpofqEC&format=epub&output=acs4_fulfillment_token&dl_type=sample&source=gbs_api'},\n",
       "    'pdf': {'isAvailable': True,\n",
       "     'acsTokenLink': 'http://books.google.com/books/download/Basics_of_Computer_Networking-sample-pdf.acsm?id=Fnz2qDpofqEC&format=pdf&output=acs4_fulfillment_token&dl_type=sample&source=gbs_api'},\n",
       "    'webReaderLink': 'http://play.google.com/books/reader?id=Fnz2qDpofqEC&hl=&as_pt=BOOKS&source=gbs_api',\n",
       "    'accessViewStatus': 'SAMPLE',\n",
       "    'quoteSharingAllowed': False},\n",
       "   'searchInfo': {'textSnippet': 'Springer Brief Basics of Computer Networking provides a non-mathematical introduction to the world of networks. This book covers both technology for wired and wireless networks.'}},\n",
       "  {'kind': 'books#volume',\n",
       "   'id': 'JkkeBgAAQBAJ',\n",
       "   'etag': 'GdF5BgaDVok',\n",
       "   'selfLink': 'https://www.googleapis.com/books/v1/volumes/JkkeBgAAQBAJ',\n",
       "   'volumeInfo': {'title': 'Understanding Computer Networks',\n",
       "    'authors': ['Matthew Anniss'],\n",
       "    'publisher': 'Raintree',\n",
       "    'publishedDate': '2015',\n",
       "    'description': \"This book looks at the basics of computer networks. It describes what networks are and how they work, the different kinds of network, and the difference between the Internet and the World Wide Web. It explains how to contact people online using email and social networks, shows how networks can be used to work with other people online, and touches on creating websites and blogs. The topics covered are illustrated with do's and don'ts, Did You Know? boxes and current developments in the world of computing.\",\n",
       "    'industryIdentifiers': [{'type': 'ISBN_13', 'identifier': '9781406289756'},\n",
       "     {'type': 'ISBN_10', 'identifier': '1406289752'}],\n",
       "    'readingModes': {'text': False, 'image': True},\n",
       "    'pageCount': 50,\n",
       "    'printType': 'BOOK',\n",
       "    'categories': ['Juvenile Nonfiction'],\n",
       "    'maturityRating': 'NOT_MATURE',\n",
       "    'allowAnonLogging': False,\n",
       "    'contentVersion': '0.2.1.0.preview.1',\n",
       "    'panelizationSummary': {'containsEpubBubbles': False,\n",
       "     'containsImageBubbles': False},\n",
       "    'imageLinks': {'smallThumbnail': 'http://books.google.com/books/content?id=JkkeBgAAQBAJ&printsec=frontcover&img=1&zoom=5&edge=curl&source=gbs_api',\n",
       "     'thumbnail': 'http://books.google.com/books/content?id=JkkeBgAAQBAJ&printsec=frontcover&img=1&zoom=1&edge=curl&source=gbs_api'},\n",
       "    'language': 'en',\n",
       "    'previewLink': 'http://books.google.com/books?id=JkkeBgAAQBAJ&printsec=frontcover&dq=Computer+Networks&hl=&as_pt=BOOKS&cd=3&source=gbs_api',\n",
       "    'infoLink': 'http://books.google.com/books?id=JkkeBgAAQBAJ&dq=Computer+Networks&hl=&as_pt=BOOKS&source=gbs_api',\n",
       "    'canonicalVolumeLink': 'https://books.google.com/books/about/Understanding_Computer_Networks.html?hl=&id=JkkeBgAAQBAJ'},\n",
       "   'saleInfo': {'country': 'NP',\n",
       "    'saleability': 'NOT_FOR_SALE',\n",
       "    'isEbook': False},\n",
       "   'accessInfo': {'country': 'NP',\n",
       "    'viewability': 'PARTIAL',\n",
       "    'embeddable': True,\n",
       "    'publicDomain': False,\n",
       "    'textToSpeechPermission': 'ALLOWED',\n",
       "    'epub': {'isAvailable': False},\n",
       "    'pdf': {'isAvailable': True,\n",
       "     'acsTokenLink': 'http://books.google.com/books/download/Understanding_Computer_Networks-sample-pdf.acsm?id=JkkeBgAAQBAJ&format=pdf&output=acs4_fulfillment_token&dl_type=sample&source=gbs_api'},\n",
       "    'webReaderLink': 'http://play.google.com/books/reader?id=JkkeBgAAQBAJ&hl=&as_pt=BOOKS&source=gbs_api',\n",
       "    'accessViewStatus': 'SAMPLE',\n",
       "    'quoteSharingAllowed': False},\n",
       "   'searchInfo': {'textSnippet': 'This book looks at the basics of computer networks.'}},\n",
       "  {'kind': 'books#volume',\n",
       "   'id': 'S9PbDwAAQBAJ',\n",
       "   'etag': 'RnPeyg1WEwg',\n",
       "   'selfLink': 'https://www.googleapis.com/books/v1/volumes/S9PbDwAAQBAJ',\n",
       "   'volumeInfo': {'title': 'Computer Networks',\n",
       "    'subtitle': 'A Systems Approach',\n",
       "    'authors': ['Larry L. Peterson', 'Bruce S. Davie'],\n",
       "    'publisher': 'Morgan Kaufmann',\n",
       "    'publishedDate': '2021-01-20',\n",
       "    'description': 'Computer Networks: A Systems Approach, Sixth Edition, explores the key principles of computer networking, using real world examples from network and protocol design. Using the Internet as the primary example, this best-selling classic textbook explains various protocols and networking technologies. The systems-oriented approach encourages students to think about how individual network components fit into a larger, complex system of interactions. This sixth edition contains completely updated content with expanded coverage of the topics of utmost importance to networking professionals and students, as provided by numerous contributors via a unique open source model developed jointly by the authors and publisher. Hallmark features of the book are retained, including chapter problem statements, which introduce issues to be examined; shaded sidebars that elaborate on a topic or introduce a related advanced topic; What\\'s Next? discussions that deal with emerging issues in research, the commercial world, or society; and exercises. This book is intended primarily for graduate or upper-division undergraduate classes in computer networking. It will also be useful for industry professionals retraining for network-related assignments, as well as for network practitioners seeking to understand the workings of network protocols and the big picture of networking. - Features completely updated content with expanded coverage of the topics of utmost importance to students and networking professionals - Includes coverage of WiFi and cellular communication, security and cryptography, multimedia, and other applications - Includes expanded guidelines for instructors who prefer to teach networking using a \"top-down\" approach - Features chapter problem statements which introduce issues to be examined and shaded sidebars that elaborate on topics and introduce related ones',\n",
       "    'industryIdentifiers': [{'type': 'ISBN_13', 'identifier': '9780128182017'},\n",
       "     {'type': 'ISBN_10', 'identifier': '0128182016'}],\n",
       "    'readingModes': {'text': True, 'image': False},\n",
       "    'pageCount': 850,\n",
       "    'printType': 'BOOK',\n",
       "    'categories': ['Computers'],\n",
       "    'maturityRating': 'NOT_MATURE',\n",
       "    'allowAnonLogging': True,\n",
       "    'contentVersion': '1.5.4.0.preview.2',\n",
       "    'panelizationSummary': {'containsEpubBubbles': False,\n",
       "     'containsImageBubbles': False},\n",
       "    'imageLinks': {'smallThumbnail': 'http://books.google.com/books/content?id=S9PbDwAAQBAJ&printsec=frontcover&img=1&zoom=5&source=gbs_api',\n",
       "     'thumbnail': 'http://books.google.com/books/content?id=S9PbDwAAQBAJ&printsec=frontcover&img=1&zoom=1&source=gbs_api'},\n",
       "    'language': 'en',\n",
       "    'previewLink': 'http://books.google.com/books?id=S9PbDwAAQBAJ&dq=Computer+Networks&hl=&as_pt=BOOKS&cd=4&source=gbs_api',\n",
       "    'infoLink': 'http://books.google.com/books?id=S9PbDwAAQBAJ&dq=Computer+Networks&hl=&as_pt=BOOKS&source=gbs_api',\n",
       "    'canonicalVolumeLink': 'https://books.google.com/books/about/Computer_Networks.html?hl=&id=S9PbDwAAQBAJ'},\n",
       "   'saleInfo': {'country': 'NP',\n",
       "    'saleability': 'NOT_FOR_SALE',\n",
       "    'isEbook': False},\n",
       "   'accessInfo': {'country': 'NP',\n",
       "    'viewability': 'NO_PAGES',\n",
       "    'embeddable': False,\n",
       "    'publicDomain': False,\n",
       "    'textToSpeechPermission': 'ALLOWED',\n",
       "    'epub': {'isAvailable': True},\n",
       "    'pdf': {'isAvailable': True},\n",
       "    'webReaderLink': 'http://play.google.com/books/reader?id=S9PbDwAAQBAJ&hl=&as_pt=BOOKS&source=gbs_api',\n",
       "    'accessViewStatus': 'NONE',\n",
       "    'quoteSharingAllowed': False},\n",
       "   'searchInfo': {'textSnippet': 'This book is intended primarily for graduate or upper-division undergraduate classes in computer networking.'}},\n",
       "  {'kind': 'books#volume',\n",
       "   'id': 'l9lKAgAAQBAJ',\n",
       "   'etag': 'vIMgBLLPe+Q',\n",
       "   'selfLink': 'https://www.googleapis.com/books/v1/volumes/l9lKAgAAQBAJ',\n",
       "   'volumeInfo': {'title': 'Computer Networks',\n",
       "    'authors': ['Behrouz A. Forouzan'],\n",
       "    'publisher': 'McGraw-Hill Higher Education',\n",
       "    'publishedDate': '2011',\n",
       "    'industryIdentifiers': [{'type': 'ISBN_13', 'identifier': '9780073264530'},\n",
       "     {'type': 'ISBN_10', 'identifier': '0073264539'}],\n",
       "    'readingModes': {'text': False, 'image': False},\n",
       "    'pageCount': 966,\n",
       "    'printType': 'BOOK',\n",
       "    'maturityRating': 'NOT_MATURE',\n",
       "    'allowAnonLogging': False,\n",
       "    'contentVersion': '0.3.1.0.preview.0',\n",
       "    'panelizationSummary': {'containsEpubBubbles': False,\n",
       "     'containsImageBubbles': False},\n",
       "    'imageLinks': {'smallThumbnail': 'http://books.google.com/books/content?id=l9lKAgAAQBAJ&printsec=frontcover&img=1&zoom=5&source=gbs_api',\n",
       "     'thumbnail': 'http://books.google.com/books/content?id=l9lKAgAAQBAJ&printsec=frontcover&img=1&zoom=1&source=gbs_api'},\n",
       "    'language': 'en',\n",
       "    'previewLink': 'http://books.google.com/books?id=l9lKAgAAQBAJ&dq=Computer+Networks&hl=&as_pt=BOOKS&cd=5&source=gbs_api',\n",
       "    'infoLink': 'http://books.google.com/books?id=l9lKAgAAQBAJ&dq=Computer+Networks&hl=&as_pt=BOOKS&source=gbs_api',\n",
       "    'canonicalVolumeLink': 'https://books.google.com/books/about/Computer_Networks.html?hl=&id=l9lKAgAAQBAJ'},\n",
       "   'saleInfo': {'country': 'NP',\n",
       "    'saleability': 'NOT_FOR_SALE',\n",
       "    'isEbook': False},\n",
       "   'accessInfo': {'country': 'NP',\n",
       "    'viewability': 'NO_PAGES',\n",
       "    'embeddable': False,\n",
       "    'publicDomain': False,\n",
       "    'textToSpeechPermission': 'ALLOWED',\n",
       "    'epub': {'isAvailable': False},\n",
       "    'pdf': {'isAvailable': True},\n",
       "    'webReaderLink': 'http://play.google.com/books/reader?id=l9lKAgAAQBAJ&hl=&as_pt=BOOKS&source=gbs_api',\n",
       "    'accessViewStatus': 'NONE',\n",
       "    'quoteSharingAllowed': False}},\n",
       "  {'kind': 'books#volume',\n",
       "   'id': 'roPyzQEACAAJ',\n",
       "   'etag': '1dkx1gYKCNw',\n",
       "   'selfLink': 'https://www.googleapis.com/books/v1/volumes/roPyzQEACAAJ',\n",
       "   'volumeInfo': {'title': 'Computer Networking Beginners Guide',\n",
       "    'subtitle': 'The Complete Basic Guide to Master Network Security, Computer Architecture, Wireless Technology, and Communications Systems Including Cisco, CCNA and the OSI Model',\n",
       "    'authors': ['Kevin Morgan'],\n",
       "    'publisher': 'Bell@ Creative Lab',\n",
       "    'publishedDate': '2020-10-12',\n",
       "    'description': 'Do you want to learn the basic concepts to build your computer network in a simple and effective way? read on. We are more than happy to present our latest product: \"COMPUTER NETWORKING BEGINNERS GUIDE\" - a comprehensive guide for any newcomer interested in understanding the operation of computer networks and telecommunications technology in general. A computer network is a type of telecommunications network characterized by a set of hardware devices with appropriate switching software, nodes connected to each other by special communication channels (links), such as to provide a communication service that allows the exchange and sharing of data and communication between multiple users or devices. The data is transferred as a PDU (Packet Data Unit), consisting of a header (which contains the data for sending the message) and a body (which contains the body of the message), all governed by strict protocols. To create a computer network it is necessary to know all the basic concepts so that the network is efficient and above all safe from possible external attacks. Whether you are responsible for a small network or a large network, this book is full of information needed to create a network and keep it running. Becoming a network owner has never been easier. This is the basic guide to creating, managing and protecting a successful network. It is the network guide for every beginner. When you finish reading this book you will learn ALL the basic concepts for an efficient and secure network. ................ and much more, Topics: Wireless communication technologies Mobile communication systems The challenges of wireless technology Network protocols Wireless technology security Wireless network security features Security issues in wireless networks Wireless computer network architecture Security architecture Wireless cellular networks Communication and network systems Cisco, CCNA Systems. The OSI model Wireless network applications Wired network components What are you waiting for? Get your copy NOW!!',\n",
       "    'industryIdentifiers': [{'type': 'ISBN_10', 'identifier': '1801094829'},\n",
       "     {'type': 'ISBN_13', 'identifier': '9781801094825'}],\n",
       "    'readingModes': {'text': False, 'image': False},\n",
       "    'pageCount': 138,\n",
       "    'printType': 'BOOK',\n",
       "    'maturityRating': 'NOT_MATURE',\n",
       "    'allowAnonLogging': False,\n",
       "    'contentVersion': 'preview-1.0.0',\n",
       "    'panelizationSummary': {'containsEpubBubbles': False,\n",
       "     'containsImageBubbles': False},\n",
       "    'imageLinks': {'smallThumbnail': 'http://books.google.com/books/content?id=roPyzQEACAAJ&printsec=frontcover&img=1&zoom=5&source=gbs_api',\n",
       "     'thumbnail': 'http://books.google.com/books/content?id=roPyzQEACAAJ&printsec=frontcover&img=1&zoom=1&source=gbs_api'},\n",
       "    'language': 'en',\n",
       "    'previewLink': 'http://books.google.com/books?id=roPyzQEACAAJ&dq=Computer+Networks&hl=&as_pt=BOOKS&cd=6&source=gbs_api',\n",
       "    'infoLink': 'http://books.google.com/books?id=roPyzQEACAAJ&dq=Computer+Networks&hl=&as_pt=BOOKS&source=gbs_api',\n",
       "    'canonicalVolumeLink': 'https://books.google.com/books/about/Computer_Networking_Beginners_Guide.html?hl=&id=roPyzQEACAAJ'},\n",
       "   'saleInfo': {'country': 'NP',\n",
       "    'saleability': 'NOT_FOR_SALE',\n",
       "    'isEbook': False},\n",
       "   'accessInfo': {'country': 'NP',\n",
       "    'viewability': 'NO_PAGES',\n",
       "    'embeddable': False,\n",
       "    'publicDomain': False,\n",
       "    'textToSpeechPermission': 'ALLOWED',\n",
       "    'epub': {'isAvailable': False},\n",
       "    'pdf': {'isAvailable': False},\n",
       "    'webReaderLink': 'http://play.google.com/books/reader?id=roPyzQEACAAJ&hl=&as_pt=BOOKS&source=gbs_api',\n",
       "    'accessViewStatus': 'NONE',\n",
       "    'quoteSharingAllowed': False},\n",
       "   'searchInfo': {'textSnippet': 'Becoming a network owner has never been easier. This is the basic guide to creating, managing and protecting a successful network. It is the network guide for every beginner.'}},\n",
       "  {'kind': 'books#volume',\n",
       "   'id': 'jD17ybva3oEC',\n",
       "   'etag': 'Mi5/aLSwJVs',\n",
       "   'selfLink': 'https://www.googleapis.com/books/v1/volumes/jD17ybva3oEC',\n",
       "   'volumeInfo': {'title': 'An Engineering Approach To Computer Networking: Atm Networks, The Internet, And The Telephone Network',\n",
       "    'authors': ['Keshav'],\n",
       "    'publisher': 'Pearson Education India',\n",
       "    'publishedDate': '1997-09',\n",
       "    'industryIdentifiers': [{'type': 'ISBN_10', 'identifier': '8131711455'},\n",
       "     {'type': 'ISBN_13', 'identifier': '9788131711453'}],\n",
       "    'readingModes': {'text': False, 'image': True},\n",
       "    'pageCount': 642,\n",
       "    'printType': 'BOOK',\n",
       "    'categories': ['Asynchronous transfer mode'],\n",
       "    'maturityRating': 'NOT_MATURE',\n",
       "    'allowAnonLogging': False,\n",
       "    'contentVersion': '0.6.7.0.preview.1',\n",
       "    'panelizationSummary': {'containsEpubBubbles': False,\n",
       "     'containsImageBubbles': False},\n",
       "    'imageLinks': {'smallThumbnail': 'http://books.google.com/books/content?id=jD17ybva3oEC&printsec=frontcover&img=1&zoom=5&edge=curl&source=gbs_api',\n",
       "     'thumbnail': 'http://books.google.com/books/content?id=jD17ybva3oEC&printsec=frontcover&img=1&zoom=1&edge=curl&source=gbs_api'},\n",
       "    'language': 'en',\n",
       "    'previewLink': 'http://books.google.com/books?id=jD17ybva3oEC&printsec=frontcover&dq=Computer+Networks&hl=&as_pt=BOOKS&cd=7&source=gbs_api',\n",
       "    'infoLink': 'http://books.google.com/books?id=jD17ybva3oEC&dq=Computer+Networks&hl=&as_pt=BOOKS&source=gbs_api',\n",
       "    'canonicalVolumeLink': 'https://books.google.com/books/about/An_Engineering_Approach_To_Computer_Netw.html?hl=&id=jD17ybva3oEC'},\n",
       "   'saleInfo': {'country': 'NP',\n",
       "    'saleability': 'NOT_FOR_SALE',\n",
       "    'isEbook': False},\n",
       "   'accessInfo': {'country': 'NP',\n",
       "    'viewability': 'PARTIAL',\n",
       "    'embeddable': True,\n",
       "    'publicDomain': False,\n",
       "    'textToSpeechPermission': 'ALLOWED',\n",
       "    'epub': {'isAvailable': False},\n",
       "    'pdf': {'isAvailable': True,\n",
       "     'acsTokenLink': 'http://books.google.com/books/download/An_Engineering_Approach_To_Computer_Netw-sample-pdf.acsm?id=jD17ybva3oEC&format=pdf&output=acs4_fulfillment_token&dl_type=sample&source=gbs_api'},\n",
       "    'webReaderLink': 'http://play.google.com/books/reader?id=jD17ybva3oEC&hl=&as_pt=BOOKS&source=gbs_api',\n",
       "    'accessViewStatus': 'SAMPLE',\n",
       "    'quoteSharingAllowed': False}},\n",
       "  {'kind': 'books#volume',\n",
       "   'id': 'bGoBzgEACAAJ',\n",
       "   'etag': '6eU6fAMBEFQ',\n",
       "   'selfLink': 'https://www.googleapis.com/books/v1/volumes/bGoBzgEACAAJ',\n",
       "   'volumeInfo': {'title': 'Networking for Beginners',\n",
       "    'subtitle': 'An Easy Guide to Learning Computer Network Basics. Take Your First Step, Master Wireless Technology, the OSI Model, IP Subnetting, Routing Protocols and Internet Essentials',\n",
       "    'authors': ['Russell Scott'],\n",
       "    'publishedDate': '2020-10-04',\n",
       "    'description': \"Do you want to find out how a computer network works? Do you want to understand what it all takes to keep a home or office network up and running? This book is all you need! It will help you navigate your way to becoming proficient with network fundamentals and technology. When the first computers were built during the Second World War, they were expensive and isolated. However, after about twenty years, as their prices gradually decreased, the first experiments began to connect computers together. At the time, sharing them over a long distance was an interesting idea. Computers and the Internet have changed this world and our lifestyle forever. We just need to touch a small button and within a fraction of a second, we can make a call, send a file or video message. The major factor that lies behind this advanced technology is none other than computer network. That's why it's important to know how it works! Networking for Beginners covers the following topics: Networking Basics - This chapter considers the needs of a real beginner in computer networking and covers the following crucial topics: definition of computer networking, types of computer networks, network topologies, and network architecture. Network Hardware - A comprehensive discussion on different network components that include routers, hubs, switches, etc. Network Cabling - This chapter discusses the different cabling standards include coaxial, fiber optic cable and twisted-pair copper cable. Wireless Networking - Fundamental technicalities of wireless technology that is of great significance to the entire computer networking discipline. This chapter offers important information on how to enjoy the benefits of Wi-Fi technology and how to set up and configure a computer for wireless connectivity. IP Addressing - This chapter pays great attention to the basics of IP addressing, and the different number systems (binary, decimal, and hexadecimal) IP Subnetting - Introduction to concepts of subnetting. Network Protocols - Various protocols of the TCP/IP suite. Internet Essentials - Different terminologies regarding the Internet, the worldwide web, and history of the Internet. Virtualization in cloud computing - Concept of virtualization, its relevance in computer networking, and an examination of cloud services. Network Troubleshooting - This chapter considers troubleshooting as a top management function. NETWORKING FOR BEGINNERS is an easy-to-read book for anyone hungry for computer networking knowledge. The language used is simple, and even the very technical terms that pop from time to time have been explained in a way that is easy to understand.\",\n",
       "    'industryIdentifiers': [{'type': 'ISBN_10', 'identifier': '1801091730'},\n",
       "     {'type': 'ISBN_13', 'identifier': '9781801091732'}],\n",
       "    'readingModes': {'text': False, 'image': False},\n",
       "    'pageCount': 176,\n",
       "    'printType': 'BOOK',\n",
       "    'categories': ['Computers'],\n",
       "    'maturityRating': 'NOT_MATURE',\n",
       "    'allowAnonLogging': False,\n",
       "    'contentVersion': 'preview-1.0.0',\n",
       "    'panelizationSummary': {'containsEpubBubbles': False,\n",
       "     'containsImageBubbles': False},\n",
       "    'imageLinks': {'smallThumbnail': 'http://books.google.com/books/content?id=bGoBzgEACAAJ&printsec=frontcover&img=1&zoom=5&source=gbs_api',\n",
       "     'thumbnail': 'http://books.google.com/books/content?id=bGoBzgEACAAJ&printsec=frontcover&img=1&zoom=1&source=gbs_api'},\n",
       "    'language': 'en',\n",
       "    'previewLink': 'http://books.google.com/books?id=bGoBzgEACAAJ&dq=Computer+Networks&hl=&as_pt=BOOKS&cd=8&source=gbs_api',\n",
       "    'infoLink': 'http://books.google.com/books?id=bGoBzgEACAAJ&dq=Computer+Networks&hl=&as_pt=BOOKS&source=gbs_api',\n",
       "    'canonicalVolumeLink': 'https://books.google.com/books/about/Networking_for_Beginners.html?hl=&id=bGoBzgEACAAJ'},\n",
       "   'saleInfo': {'country': 'NP',\n",
       "    'saleability': 'NOT_FOR_SALE',\n",
       "    'isEbook': False},\n",
       "   'accessInfo': {'country': 'NP',\n",
       "    'viewability': 'NO_PAGES',\n",
       "    'embeddable': False,\n",
       "    'publicDomain': False,\n",
       "    'textToSpeechPermission': 'ALLOWED',\n",
       "    'epub': {'isAvailable': False},\n",
       "    'pdf': {'isAvailable': False},\n",
       "    'webReaderLink': 'http://play.google.com/books/reader?id=bGoBzgEACAAJ&hl=&as_pt=BOOKS&source=gbs_api',\n",
       "    'accessViewStatus': 'NONE',\n",
       "    'quoteSharingAllowed': False},\n",
       "   'searchInfo': {'textSnippet': 'Do you want to find out how a computer network works? Do you want to understand what it all takes to keep a home or office network up and running? This book is all you need!'}},\n",
       "  {'kind': 'books#volume',\n",
       "   'id': 'O6G6DwAAQBAJ',\n",
       "   'etag': 'CsAqXvNvDE8',\n",
       "   'selfLink': 'https://www.googleapis.com/books/v1/volumes/O6G6DwAAQBAJ',\n",
       "   'volumeInfo': {'title': 'Computer Networking and its Fundamentals (VIEH GROUP)',\n",
       "    'authors': ['Shaikh Nooruddin'],\n",
       "    'publisher': 'VIEH GROUP',\n",
       "    'description': '\\ufeffWelcome to the Computer Networking for Beginners. This book will teach you the concepts of Computer Networking and Network Fundamentals from stratch. This book has been designed for all the beginners whether Techies or Non-Techies. The book is pitched perfectly for anyone looking to get into networking, covering all the basics in a logical, step by step manner. By choosing this book, you will come to know about the basics of computer networks, types of network models, Types of layers in each model, types of devices, types of networks and what is internet etc. You will also learn about the history of internet, history of these computer networks and who are the scientist involved in developing these technologies. Overall, this book is perfect to start with in the field of Computer Networking.',\n",
       "    'readingModes': {'text': False, 'image': True},\n",
       "    'pageCount': 355,\n",
       "    'printType': 'BOOK',\n",
       "    'categories': ['Computers'],\n",
       "    'maturityRating': 'NOT_MATURE',\n",
       "    'allowAnonLogging': True,\n",
       "    'contentVersion': '0.1.2.0.preview.1',\n",
       "    'panelizationSummary': {'containsEpubBubbles': False,\n",
       "     'containsImageBubbles': False},\n",
       "    'imageLinks': {'smallThumbnail': 'http://books.google.com/books/content?id=O6G6DwAAQBAJ&printsec=frontcover&img=1&zoom=5&edge=curl&source=gbs_api',\n",
       "     'thumbnail': 'http://books.google.com/books/content?id=O6G6DwAAQBAJ&printsec=frontcover&img=1&zoom=1&edge=curl&source=gbs_api'},\n",
       "    'language': 'en',\n",
       "    'previewLink': 'http://books.google.com/books?id=O6G6DwAAQBAJ&printsec=frontcover&dq=Computer+Networks&hl=&as_pt=BOOKS&cd=9&source=gbs_api',\n",
       "    'infoLink': 'http://books.google.com/books?id=O6G6DwAAQBAJ&dq=Computer+Networks&hl=&as_pt=BOOKS&source=gbs_api',\n",
       "    'canonicalVolumeLink': 'https://books.google.com/books/about/Computer_Networking_and_its_Fundamentals.html?hl=&id=O6G6DwAAQBAJ'},\n",
       "   'saleInfo': {'country': 'NP',\n",
       "    'saleability': 'NOT_FOR_SALE',\n",
       "    'isEbook': False},\n",
       "   'accessInfo': {'country': 'NP',\n",
       "    'viewability': 'PARTIAL',\n",
       "    'embeddable': True,\n",
       "    'publicDomain': False,\n",
       "    'textToSpeechPermission': 'ALLOWED',\n",
       "    'epub': {'isAvailable': False},\n",
       "    'pdf': {'isAvailable': True,\n",
       "     'acsTokenLink': 'http://books.google.com/books/download/Computer_Networking_and_its_Fundamentals-sample-pdf.acsm?id=O6G6DwAAQBAJ&format=pdf&output=acs4_fulfillment_token&dl_type=sample&source=gbs_api'},\n",
       "    'webReaderLink': 'http://play.google.com/books/reader?id=O6G6DwAAQBAJ&hl=&as_pt=BOOKS&source=gbs_api',\n",
       "    'accessViewStatus': 'SAMPLE',\n",
       "    'quoteSharingAllowed': False},\n",
       "   'searchInfo': {'textSnippet': '\\ufeffWelcome to the Computer Networking for Beginners. This book will teach you the concepts of Computer Networking and Network Fundamentals from stratch. This book has been designed for all the beginners whether Techies or Non-Techies.'}},\n",
       "  {'kind': 'books#volume',\n",
       "   'id': 'tm-evHmOs3oC',\n",
       "   'etag': 'DK2KAyb4qGA',\n",
       "   'selfLink': 'https://www.googleapis.com/books/v1/volumes/tm-evHmOs3oC',\n",
       "   'volumeInfo': {'title': 'Computer Networks and Internets',\n",
       "    'authors': ['Douglas Comer'],\n",
       "    'publisher': 'Prentice Hall',\n",
       "    'publishedDate': '2009',\n",
       "    'description': 'Written by a best-selling author and leading computer networking authority, this title builds a comprehensive picture of the technologies behind Internet applications.',\n",
       "    'industryIdentifiers': [{'type': 'ISBN_13', 'identifier': '9780136061274'},\n",
       "     {'type': 'ISBN_10', 'identifier': '0136061273'}],\n",
       "    'readingModes': {'text': True, 'image': False},\n",
       "    'pageCount': 633,\n",
       "    'printType': 'BOOK',\n",
       "    'categories': ['Computers'],\n",
       "    'averageRating': 3.5,\n",
       "    'ratingsCount': 4,\n",
       "    'maturityRating': 'NOT_MATURE',\n",
       "    'allowAnonLogging': False,\n",
       "    'contentVersion': '0.2.4.0.preview.2',\n",
       "    'panelizationSummary': {'containsEpubBubbles': False,\n",
       "     'containsImageBubbles': False},\n",
       "    'imageLinks': {'smallThumbnail': 'http://books.google.com/books/content?id=tm-evHmOs3oC&printsec=frontcover&img=1&zoom=5&source=gbs_api',\n",
       "     'thumbnail': 'http://books.google.com/books/content?id=tm-evHmOs3oC&printsec=frontcover&img=1&zoom=1&source=gbs_api'},\n",
       "    'language': 'en',\n",
       "    'previewLink': 'http://books.google.com/books?id=tm-evHmOs3oC&q=Computer+Networks&dq=Computer+Networks&hl=&as_pt=BOOKS&cd=10&source=gbs_api',\n",
       "    'infoLink': 'http://books.google.com/books?id=tm-evHmOs3oC&dq=Computer+Networks&hl=&as_pt=BOOKS&source=gbs_api',\n",
       "    'canonicalVolumeLink': 'https://books.google.com/books/about/Computer_Networks_and_Internets.html?hl=&id=tm-evHmOs3oC'},\n",
       "   'saleInfo': {'country': 'NP',\n",
       "    'saleability': 'NOT_FOR_SALE',\n",
       "    'isEbook': False},\n",
       "   'accessInfo': {'country': 'NP',\n",
       "    'viewability': 'NO_PAGES',\n",
       "    'embeddable': False,\n",
       "    'publicDomain': False,\n",
       "    'textToSpeechPermission': 'ALLOWED_FOR_ACCESSIBILITY',\n",
       "    'epub': {'isAvailable': False},\n",
       "    'pdf': {'isAvailable': False},\n",
       "    'webReaderLink': 'http://play.google.com/books/reader?id=tm-evHmOs3oC&hl=&as_pt=BOOKS&source=gbs_api',\n",
       "    'accessViewStatus': 'NONE',\n",
       "    'quoteSharingAllowed': False},\n",
       "   'searchInfo': {'textSnippet': 'Written by a best-selling author and leading computer networking authority, this title builds a comprehensive picture of the technologies behind Internet applications.'}}]}"
      ]
     },
     "execution_count": 29,
     "metadata": {},
     "output_type": "execute_result"
    }
   ],
   "source": [
    "response.json()"
   ]
  },
  {
   "cell_type": "code",
   "execution_count": 45,
   "metadata": {},
   "outputs": [],
   "source": [
    "titles = []\n",
    "authors = []\n",
    "images = []\n",
    "book_links = []\n",
    "descriptions = []\n",
    "\n",
    "if response.status_code == 200:\n",
    "    books = response.json().get('items', [])\n",
    "    for book in books[:5]:  # Displaying top 5 results\n",
    "        volume_info = book.get('volumeInfo', {})\n",
    "        title = volume_info.get('title', 'N/A')\n",
    "        description = volume_info.get('description', 'Description not available.')\n",
    "        author = volume_info.get('authors', 'N/A')\n",
    "        link = volume_info.get('infoLink', '#')\n",
    "        # Fetching book cover image\n",
    "        image_link = volume_info.get('imageLinks', {}).get('smallThumbnail', 'No Image Available')\n",
    "        # print(f\"Title: {title}\\nAuthors: {authors}\\nDescription: {description}\\nCover Image: {image_link}\\nMore Info: {link}\\n\")\n",
    "\n",
    "        titles.append(title)\n",
    "        descriptions.append(description)\n",
    "        images.append(image_link)\n",
    "        book_links.append(link)\n",
    "        authors.append(author)\n",
    "\n",
    "\n",
    "\n",
    "    "
   ]
  },
  {
   "cell_type": "code",
   "execution_count": 47,
   "metadata": {},
   "outputs": [
    {
     "name": "stdout",
     "output_type": "stream",
     "text": [
      "Title: Computer Networks\n",
      "Authors: Tanenbaum\n",
      "Description: On computer networks\n",
      "Cover Image: http://books.google.com/books/content?id=b2HyGSu46lQC&printsec=frontcover&img=1&zoom=5&edge=curl&source=gbs_api\n",
      "More Info: http://books.google.com/books?id=b2HyGSu46lQC&dq=Computer+Networks&hl=&as_pt=BOOKS&source=gbs_api\n",
      "\n",
      "Title: Basics of Computer Networking\n",
      "Authors: Thomas Robertazzi\n",
      "Description: Springer Brief Basics of Computer Networking provides a non-mathematical introduction to the world of networks. This book covers both technology for wired and wireless networks. Coverage includes transmission media, local area networks, wide area networks, and network security. Written in a very accessible style for the interested layman by the author of a widely used textbook with many years of experience explaining concepts to the beginner.\n",
      "Cover Image: http://books.google.com/books/content?id=Fnz2qDpofqEC&printsec=frontcover&img=1&zoom=5&edge=curl&source=gbs_api\n",
      "More Info: http://books.google.com/books?id=Fnz2qDpofqEC&dq=Computer+Networks&hl=&as_pt=BOOKS&source=gbs_api\n",
      "\n",
      "Title: Understanding Computer Networks\n",
      "Authors: Matthew Anniss\n",
      "Description: This book looks at the basics of computer networks. It describes what networks are and how they work, the different kinds of network, and the difference between the Internet and the World Wide Web. It explains how to contact people online using email and social networks, shows how networks can be used to work with other people online, and touches on creating websites and blogs. The topics covered are illustrated with do's and don'ts, Did You Know? boxes and current developments in the world of computing.\n",
      "Cover Image: http://books.google.com/books/content?id=JkkeBgAAQBAJ&printsec=frontcover&img=1&zoom=5&edge=curl&source=gbs_api\n",
      "More Info: http://books.google.com/books?id=JkkeBgAAQBAJ&dq=Computer+Networks&hl=&as_pt=BOOKS&source=gbs_api\n",
      "\n",
      "Title: Computer Networks\n",
      "Authors: Larry L. Peterson, Bruce S. Davie\n",
      "Description: Computer Networks: A Systems Approach, Sixth Edition, explores the key principles of computer networking, using real world examples from network and protocol design. Using the Internet as the primary example, this best-selling classic textbook explains various protocols and networking technologies. The systems-oriented approach encourages students to think about how individual network components fit into a larger, complex system of interactions. This sixth edition contains completely updated content with expanded coverage of the topics of utmost importance to networking professionals and students, as provided by numerous contributors via a unique open source model developed jointly by the authors and publisher. Hallmark features of the book are retained, including chapter problem statements, which introduce issues to be examined; shaded sidebars that elaborate on a topic or introduce a related advanced topic; What's Next? discussions that deal with emerging issues in research, the commercial world, or society; and exercises. This book is intended primarily for graduate or upper-division undergraduate classes in computer networking. It will also be useful for industry professionals retraining for network-related assignments, as well as for network practitioners seeking to understand the workings of network protocols and the big picture of networking. - Features completely updated content with expanded coverage of the topics of utmost importance to students and networking professionals - Includes coverage of WiFi and cellular communication, security and cryptography, multimedia, and other applications - Includes expanded guidelines for instructors who prefer to teach networking using a \"top-down\" approach - Features chapter problem statements which introduce issues to be examined and shaded sidebars that elaborate on topics and introduce related ones\n",
      "Cover Image: http://books.google.com/books/content?id=S9PbDwAAQBAJ&printsec=frontcover&img=1&zoom=5&source=gbs_api\n",
      "More Info: http://books.google.com/books?id=S9PbDwAAQBAJ&dq=Computer+Networks&hl=&as_pt=BOOKS&source=gbs_api\n",
      "\n",
      "Title: Computer Networks\n",
      "Authors: Behrouz A. Forouzan\n",
      "Description: Description not available.\n",
      "Cover Image: http://books.google.com/books/content?id=l9lKAgAAQBAJ&printsec=frontcover&img=1&zoom=5&source=gbs_api\n",
      "More Info: http://books.google.com/books?id=l9lKAgAAQBAJ&dq=Computer+Networks&hl=&as_pt=BOOKS&source=gbs_api\n",
      "\n"
     ]
    }
   ],
   "source": [
    "for title,author,image,book_link,description in zip(titles,authors,images,book_links,descriptions):\n",
    "    authors_str = \", \".join(author)\n",
    "    print(f\"Title: {title}\\nAuthors: {authors_str}\\nDescription: {description}\\nCover Image: {image}\\nMore Info: {book_link}\\n\")"
   ]
  },
  {
   "cell_type": "code",
   "execution_count": 56,
   "metadata": {},
   "outputs": [],
   "source": [
    "from Book import Book\n",
    "\n",
    "book = Book()\n",
    "titles,descriptions,images,book_links,authors = book.fetch_book_details(\"Computer Networks\")"
   ]
  },
  {
   "cell_type": "code",
   "execution_count": 58,
   "metadata": {},
   "outputs": [
    {
     "name": "stdout",
     "output_type": "stream",
     "text": [
      "Title: Computer Networks\n",
      "Authors: Behrouz A. Forouzan\n",
      "Description: Description not available.\n",
      "Cover Image: http://books.google.com/books/content?id=l9lKAgAAQBAJ&printsec=frontcover&img=1&zoom=5&source=gbs_api\n",
      "More Info: http://books.google.com/books?id=l9lKAgAAQBAJ&dq=Computer+Networks&hl=&as_pt=BOOKS&source=gbs_api\n",
      "\n"
     ]
    }
   ],
   "source": [
    "for title,author,image,book_link,description in zip(titles,authors,images,book_links,descriptions):\n",
    "    authors_str = \", \".join(author)\n",
    "    print(f\"Title: {title}\\nAuthors: {authors_str}\\nDescription: {description}\\nCover Image: {image}\\nMore Info: {book_link}\\n\")"
   ]
  },
  {
   "cell_type": "code",
   "execution_count": 61,
   "metadata": {},
   "outputs": [
    {
     "name": "stdout",
     "output_type": "stream",
     "text": [
      "Say something!\n",
      "You said: o\n"
     ]
    }
   ],
   "source": [
    "import speech_recognition as sr\n",
    "\n",
    "# Initialize the recognizer\n",
    "r = sr.Recognizer()\n",
    "\n",
    "# Use the microphone as the audio source\n",
    "with sr.Microphone() as source:\n",
    "    print(\"Say something!\")\n",
    "    audio = r.listen(source)\n",
    "\n",
    "# Recognize speech using Google Speech Recognition\n",
    "try:\n",
    "    text = r.recognize_google(audio)\n",
    "    print(\"You said: \" + text)\n",
    "except sr.UnknownValueError:\n",
    "    print(\"Google Speech Recognition could not understand audio\")\n",
    "except sr.RequestError as e:\n",
    "    print(\"Could not request results from Google Speech Recognition service; {0}\".format(e))"
   ]
  },
  {
   "cell_type": "code",
   "execution_count": 63,
   "metadata": {},
   "outputs": [
    {
     "name": "stdout",
     "output_type": "stream",
     "text": [
      "Listening... Speak now!\n",
      "\n",
      "Listening for your speech...\n",
      "Could not understand the audio, try again.\n",
      "\n",
      "Listening for your speech...\n",
      "Could not understand the audio, try again.\n",
      "\n",
      "Listening for your speech...\n",
      "You said: what man what\n",
      "\n",
      "Listening for your speech...\n",
      "You said: Sumit background noise 42\n",
      "\n",
      "Listening for your speech...\n",
      "Could not understand the audio, try again.\n",
      "\n",
      "Listening for your speech...\n",
      "\n",
      "Stopping the real-time speech recognition.\n"
     ]
    }
   ],
   "source": [
    "import speech_recognition as sr\n",
    "\n",
    "def real_time_speech_recognition():\n",
    "    # Initialize the recognizer\n",
    "    r = sr.Recognizer()\n",
    "\n",
    "    # Use the microphone as the audio source\n",
    "    with sr.Microphone() as source:\n",
    "        print(\"Listening... Speak now!\")\n",
    "        \n",
    "        # Adjust for ambient noise\n",
    "        r.adjust_for_ambient_noise(source)\n",
    "        \n",
    "        try:\n",
    "            while True:  # Continuous listening loop\n",
    "                print(\"\\nListening for your speech...\")\n",
    "                \n",
    "                # Capture audio from the microphone\n",
    "                audio = r.listen(source)\n",
    "                \n",
    "                # Recognize speech using Google Speech Recognition\n",
    "                try:\n",
    "                    text = r.recognize_google(audio)\n",
    "                    print(f\"You said: {text}\")\n",
    "                except sr.UnknownValueError:\n",
    "                    print(\"Could not understand the audio, try again.\")\n",
    "                except sr.RequestError as e:\n",
    "                    print(f\"API error: {e}\")\n",
    "                    \n",
    "        except KeyboardInterrupt:\n",
    "            print(\"\\nStopping the real-time speech recognition.\")\n",
    "\n",
    "# Call the function to start real-time speech recognition\n",
    "real_time_speech_recognition()\n"
   ]
  },
  {
   "cell_type": "code",
   "execution_count": 80,
   "metadata": {},
   "outputs": [],
   "source": [
    "with open(\"sample.txt\",\"r\") as file:\n",
    "    data = file.read()\n"
   ]
  },
  {
   "cell_type": "code",
   "execution_count": 7,
   "metadata": {},
   "outputs": [],
   "source": [
    "from langchain.text_splitter import RecursiveCharacterTextSplitter\n",
    "\n",
    "text_splitter = RecursiveCharacterTextSplitter(\n",
    "            separators=[\"\\n\",\"\\n\\n\"],  # Prioritize splitting by paragraphs, then sentences\n",
    "            chunk_size = 200,  # Maximum size of each chunk\n",
    "            chunk_overlap = 0  # Overlap to maintain context between chunks\n",
    "        )"
   ]
  },
  {
   "cell_type": "code",
   "execution_count": 16,
   "metadata": {},
   "outputs": [],
   "source": [
    "def chunk_by_newline(data):\n",
    "    # Split the data by newline and return the chunks\n",
    "    chunks = data.split('\\n')\n",
    "    # Remove any empty strings if there are consecutive newlines\n",
    "    return [chunk for chunk in chunks if chunk.strip()]"
   ]
  },
  {
   "cell_type": "code",
   "execution_count": 17,
   "metadata": {},
   "outputs": [],
   "source": [
    "chunks = chunk_by_newline(data)"
   ]
  },
  {
   "cell_type": "code",
   "execution_count": 18,
   "metadata": {},
   "outputs": [
    {
     "data": {
      "text/plain": [
       "['Computer Network and Security',\n",
       " 'Course Objective: To understand the concepts of computer networking, functions of different layers and protocols, and know the idea of IPV6 and security. Notes of various chapters of Computer Network compiled by teachers from IOE can be accessed from posts tagged under Computer Network.',\n",
       " '1. Introduction to Computer Network (5 hours)',\n",
       " '1.1 Uses of Computer Network',\n",
       " '1.2 Networking model client/server, p2p, active network',\n",
       " '1.3 Protocols and Standards',\n",
       " '1.4 OSI model and TCP/IP model',\n",
       " '1.5 Comparison of OSI and TCP/IP model',\n",
       " '1.6 Example network: The Internet, X.25, Frame Relay, Ethernet, VoIP, NGN and MPLS, xDSL.',\n",
       " '2. Physical Layer (5 hours)',\n",
       " '2.1 Network monitoring: delay, latency, throughput',\n",
       " '2.2 Transmission media: Twisted pair, Coaxial, Fiber optic, Line-of-site, Satellite',\n",
       " '2.3 Multiplexing, Circuit switching, Packet switching, VC Switching, Telecommunication switching system (Networking of Telephone exchanges)',\n",
       " '2.4 ISDN: Architecture, Interface, and Signaling',\n",
       " '3. Data Link Layer (5 hours)',\n",
       " '3.1 Functions of Data link layer',\n",
       " '3.2 Framing',\n",
       " '3.3 Error Detection and Corrections,',\n",
       " '3.4 Flow Control',\n",
       " '3.5 Examples of Data Link Protocol, HDLC, PPP',\n",
       " '3.6 The Medium Access Sub-layer',\n",
       " '3.7 The channel allocation problem',\n",
       " '3.8 Multiple Access Protocols',\n",
       " '3.9 Ethernet,',\n",
       " '3.10 Networks: FDDI, ALOHA, VLAN, CSMA/CD, IEEE 802.3(Ethernet), 802.4(Token Bus), 802.5(Token Ring), and 802.1(Wireless LAN).',\n",
       " '4. Network Layer (9 hours)',\n",
       " '4.1 Internetworking &devices: Repeaters, Hubs, Bridges, Switches, Router, Gateway',\n",
       " '4.2 Addressing: Internet address, classful address',\n",
       " '4.3 Subnetting',\n",
       " '4.4 Routing: techniques, static vs. dynamic routing , routing table for classful address',\n",
       " '4.5 Routing Protocols: RIP, OSPF, BGP, Unicast and multicast routing protocols',\n",
       " '4.6 Routing algorithms: shortest path algorithm, flooding, distance vector routing, link state routing; Protocols: ARP, RARP, IP, ICMP',\n",
       " '5. Transport Layer (5 hours)',\n",
       " '5.1 The transport service: Services provided to the upper layers',\n",
       " '5.2 Transport protocols: UDP, TCP',\n",
       " '5.3 Port and Socket',\n",
       " '5.4 Connection establishment, Connection release',\n",
       " '5.5 Flow control & buffering',\n",
       " '5.6 Multiplexing & de-multiplexing',\n",
       " '5.7 Congestion control algorithm: Token Bucket and Leaky BucketTransport Layer',\n",
       " '6. Application Layer (5 hours)',\n",
       " '6.1 Web: HTTP & HTTPS',\n",
       " '6.2 File Transfer: FTP, PuTTY, WinSCP',\n",
       " '6.3 Electronic Mail: SMTP, POP3, IMAP',\n",
       " '6.4 DNS',\n",
       " '6.5 P2PApplications',\n",
       " '6.6 Socket Programming',\n",
       " '6.7 Application server concept: proxy caching, Web/Mail/DNS server optimization',\n",
       " '6.8 Concept of traffic analyzer: MRTG, PRTG, SNMP, Packet tracer, Wireshark.',\n",
       " '7. Introduction to IPV6 (4 hours)',\n",
       " '7.1 IPv6- Advantages',\n",
       " '7.2 Packet formats',\n",
       " '7.3 Extension headers',\n",
       " '7.4 Transition from IPv4 to IPv6: Dual stack, Tunneling, Header Translation',\n",
       " '7.5 Multicasting',\n",
       " '8. Network Security (7 hours)',\n",
       " '8.1 Properties of secure communication',\n",
       " '8.2 Principles of cryptography: Symmetric Key and Public Key',\n",
       " '8.3 RSA Algorithm,',\n",
       " '8.4 Digital Signatures',\n",
       " '8.5 Securing e-mail (PGP)',\n",
       " '8.6 Securing TCP connections (SSL)',\n",
       " '8.7 Network layer security (IPsec, VPN)',\n",
       " '8.8 Securing wireless LANs (WEP)',\n",
       " '8.9 Firewalls: Application Gateway and Packet Filtering, and IDS']"
      ]
     },
     "execution_count": 18,
     "metadata": {},
     "output_type": "execute_result"
    }
   ],
   "source": [
    "chunks"
   ]
  },
  {
   "cell_type": "code",
   "execution_count": 81,
   "metadata": {},
   "outputs": [],
   "source": [
    "import re\n",
    "def extract_text_between_newlines(data):\n",
    "    text =  re.sub(r'\\b\\d+\\s*hours\\b', '', data, flags=re.IGNORECASE)\n",
    "    text =  re.sub(r'[()]', '', text)\n",
    "    # This regex captures text between \\n\\n and the next \\n\n",
    "    pattern = r'(\\n\\n\\n?)(.*?)(?=\\n)'\n",
    "    # Find all matches using re.DOTALL to capture multiline content\n",
    "    matches = re.findall(pattern, text, re.DOTALL)\n",
    "\n",
    "    return matches"
   ]
  },
  {
   "cell_type": "code",
   "execution_count": 82,
   "metadata": {},
   "outputs": [],
   "source": [
    "books_search = extract_text_between_newlines(data)"
   ]
  },
  {
   "cell_type": "code",
   "execution_count": 86,
   "metadata": {},
   "outputs": [],
   "source": [
    "result = []\n",
    "for line,title in books_search:\n",
    "    result.append(title)"
   ]
  },
  {
   "cell_type": "code",
   "execution_count": 87,
   "metadata": {},
   "outputs": [
    {
     "data": {
      "text/plain": [
       "['1. Introduction to Computer Network ',\n",
       " '2. Physical Layer ',\n",
       " '3. Data Link Layer ',\n",
       " '4. Network Layer ',\n",
       " '5. Transport Layer ',\n",
       " '6. Application Layer ',\n",
       " '7. Introduction to IPV6 ',\n",
       " '8. Network Security ']"
      ]
     },
     "execution_count": 87,
     "metadata": {},
     "output_type": "execute_result"
    }
   ],
   "source": [
    "result"
   ]
  },
  {
   "cell_type": "code",
   "execution_count": 91,
   "metadata": {},
   "outputs": [],
   "source": [
    "def remove_numbers_and_punctuation(data):\n",
    "    # Remove leading numbers and punctuation\n",
    "    cleaned_data = [re.sub(r'^\\d+\\.?\\s*', '', item) for item in data]\n",
    "    # Remove all remaining punctuation\n",
    "    cleaned_data = [re.sub(r'[^\\w\\s]', '', item) for item in cleaned_data]\n",
    "    return cleaned_data"
   ]
  },
  {
   "cell_type": "code",
   "execution_count": 92,
   "metadata": {},
   "outputs": [],
   "source": [
    "cleaned_list = remove_numbers_and_punctuation(result)"
   ]
  },
  {
   "cell_type": "code",
   "execution_count": 42,
   "metadata": {},
   "outputs": [
    {
     "data": {
      "text/plain": [
       "['Introduction to Computer Network ',\n",
       " 'Data Link Layer ',\n",
       " 'Network Layer ',\n",
       " 'Transport Layer ',\n",
       " 'Application Layer ',\n",
       " 'Introduction to IPV6 ',\n",
       " 'Network Security ']"
      ]
     },
     "execution_count": 42,
     "metadata": {},
     "output_type": "execute_result"
    }
   ],
   "source": [
    "cleaned_list"
   ]
  },
  {
   "cell_type": "code",
   "execution_count": 93,
   "metadata": {},
   "outputs": [],
   "source": [
    "cleaned_list = [item for item in cleaned_list if item]"
   ]
  },
  {
   "cell_type": "code",
   "execution_count": 94,
   "metadata": {},
   "outputs": [
    {
     "data": {
      "text/plain": [
       "['Introduction to Computer Network ',\n",
       " 'Physical Layer ',\n",
       " 'Data Link Layer ',\n",
       " 'Network Layer ',\n",
       " 'Transport Layer ',\n",
       " 'Application Layer ',\n",
       " 'Introduction to IPV6 ',\n",
       " 'Network Security ']"
      ]
     },
     "execution_count": 94,
     "metadata": {},
     "output_type": "execute_result"
    }
   ],
   "source": [
    "cleaned_list"
   ]
  },
  {
   "cell_type": "code",
   "execution_count": 39,
   "metadata": {},
   "outputs": [],
   "source": [
    "from Book import Book\n",
    "\n",
    "book = Book()"
   ]
  },
  {
   "cell_type": "code",
   "execution_count": 40,
   "metadata": {},
   "outputs": [],
   "source": [
    "import pandas as pd"
   ]
  },
  {
   "cell_type": "code",
   "execution_count": 43,
   "metadata": {},
   "outputs": [],
   "source": [
    "df = pd.DataFrame()\n",
    "\n",
    "for keyword in cleaned_list:\n",
    "    result = book.fetch_book_details(keyword)\n",
    "    data = {\n",
    "        \"title\" : result[0],\n",
    "        \"description\" : result[1],\n",
    "        \"image\" : result[2],\n",
    "        \"link\" : result[3],\n",
    "        \"authors\" : result[4]\n",
    "    }\n",
    "    df = pd.concat([df, pd.DataFrame(data)], ignore_index=True)"
   ]
  },
  {
   "cell_type": "code",
   "execution_count": 45,
   "metadata": {},
   "outputs": [
    {
     "name": "stdout",
     "output_type": "stream",
     "text": [
      "<class 'pandas.core.frame.DataFrame'>\n",
      "RangeIndex: 14 entries, 0 to 13\n",
      "Data columns (total 5 columns):\n",
      " #   Column       Non-Null Count  Dtype \n",
      "---  ------       --------------  ----- \n",
      " 0   title        14 non-null     object\n",
      " 1   description  14 non-null     object\n",
      " 2   image        14 non-null     object\n",
      " 3   link         14 non-null     object\n",
      " 4   authors      14 non-null     object\n",
      "dtypes: object(5)\n",
      "memory usage: 692.0+ bytes\n"
     ]
    }
   ],
   "source": [
    "df.info()"
   ]
  },
  {
   "cell_type": "code",
   "execution_count": 47,
   "metadata": {},
   "outputs": [],
   "source": [
    "df_no_duplicates = df.drop_duplicates(subset='title')"
   ]
  },
  {
   "cell_type": "code",
   "execution_count": 49,
   "metadata": {},
   "outputs": [
    {
     "name": "stdout",
     "output_type": "stream",
     "text": [
      "<class 'pandas.core.frame.DataFrame'>\n",
      "Index: 13 entries, 0 to 13\n",
      "Data columns (total 5 columns):\n",
      " #   Column       Non-Null Count  Dtype \n",
      "---  ------       --------------  ----- \n",
      " 0   title        13 non-null     object\n",
      " 1   description  13 non-null     object\n",
      " 2   image        13 non-null     object\n",
      " 3   link         13 non-null     object\n",
      " 4   authors      13 non-null     object\n",
      "dtypes: object(5)\n",
      "memory usage: 624.0+ bytes\n"
     ]
    }
   ],
   "source": [
    "df_no_duplicates.info()"
   ]
  },
  {
   "cell_type": "code",
   "execution_count": 51,
   "metadata": {},
   "outputs": [
    {
     "data": {
      "text/html": [
       "<div>\n",
       "<style scoped>\n",
       "    .dataframe tbody tr th:only-of-type {\n",
       "        vertical-align: middle;\n",
       "    }\n",
       "\n",
       "    .dataframe tbody tr th {\n",
       "        vertical-align: top;\n",
       "    }\n",
       "\n",
       "    .dataframe thead th {\n",
       "        text-align: right;\n",
       "    }\n",
       "</style>\n",
       "<table border=\"1\" class=\"dataframe\">\n",
       "  <thead>\n",
       "    <tr style=\"text-align: right;\">\n",
       "      <th></th>\n",
       "      <th>title</th>\n",
       "      <th>description</th>\n",
       "      <th>image</th>\n",
       "      <th>link</th>\n",
       "      <th>authors</th>\n",
       "    </tr>\n",
       "  </thead>\n",
       "  <tbody>\n",
       "    <tr>\n",
       "      <th>0</th>\n",
       "      <td>Introduction to Computer Networking</td>\n",
       "      <td>Computer networks are a fundamental part of co...</td>\n",
       "      <td>http://books.google.com/books/content?id=CXOLs...</td>\n",
       "      <td>http://books.google.com/books?id=CXOLswEACAAJ&amp;...</td>\n",
       "      <td>[Gerald Davies]</td>\n",
       "    </tr>\n",
       "    <tr>\n",
       "      <th>1</th>\n",
       "      <td>An Introduction to Computer Networking</td>\n",
       "      <td>CD-ROM contains: Example programs and files --...</td>\n",
       "      <td>http://books.google.com/books/content?id=ObuSQ...</td>\n",
       "      <td>http://books.google.com/books?id=ObuSQAAACAAJ&amp;...</td>\n",
       "      <td>[Kenneth C. Mansfield, James L. Antonakos]</td>\n",
       "    </tr>\n",
       "    <tr>\n",
       "      <th>2</th>\n",
       "      <td>Computer Networks and Open Systems</td>\n",
       "      <td>Computer Networks and Open Systems: An Applica...</td>\n",
       "      <td>http://books.google.com/books/content?id=6e5bR...</td>\n",
       "      <td>http://books.google.com/books?id=6e5bRzndxB8C&amp;...</td>\n",
       "      <td>[Lillian N. Cassel, Richard H. Austing]</td>\n",
       "    </tr>\n",
       "    <tr>\n",
       "      <th>3</th>\n",
       "      <td>Data and Computer Communications</td>\n",
       "      <td>The protocols and standards for networking are...</td>\n",
       "      <td>http://books.google.com/books/content?id=BViV0...</td>\n",
       "      <td>http://books.google.com/books?id=BViV0PoH_voC&amp;...</td>\n",
       "      <td>[Gurdeep S. Hura, Mukesh Singhal]</td>\n",
       "    </tr>\n",
       "    <tr>\n",
       "      <th>4</th>\n",
       "      <td>Computer Networking: A Top-Down Approach Featu...</td>\n",
       "      <td>Description not available.</td>\n",
       "      <td>http://books.google.com/books/content?id=3APTx...</td>\n",
       "      <td>http://books.google.com/books?id=3APTxiqamVYC&amp;...</td>\n",
       "      <td>[James F. Kurose]</td>\n",
       "    </tr>\n",
       "  </tbody>\n",
       "</table>\n",
       "</div>"
      ],
      "text/plain": [
       "                                               title  \\\n",
       "0                Introduction to Computer Networking   \n",
       "1             An Introduction to Computer Networking   \n",
       "2                 Computer Networks and Open Systems   \n",
       "3                   Data and Computer Communications   \n",
       "4  Computer Networking: A Top-Down Approach Featu...   \n",
       "\n",
       "                                         description  \\\n",
       "0  Computer networks are a fundamental part of co...   \n",
       "1  CD-ROM contains: Example programs and files --...   \n",
       "2  Computer Networks and Open Systems: An Applica...   \n",
       "3  The protocols and standards for networking are...   \n",
       "4                         Description not available.   \n",
       "\n",
       "                                               image  \\\n",
       "0  http://books.google.com/books/content?id=CXOLs...   \n",
       "1  http://books.google.com/books/content?id=ObuSQ...   \n",
       "2  http://books.google.com/books/content?id=6e5bR...   \n",
       "3  http://books.google.com/books/content?id=BViV0...   \n",
       "4  http://books.google.com/books/content?id=3APTx...   \n",
       "\n",
       "                                                link  \\\n",
       "0  http://books.google.com/books?id=CXOLswEACAAJ&...   \n",
       "1  http://books.google.com/books?id=ObuSQAAACAAJ&...   \n",
       "2  http://books.google.com/books?id=6e5bRzndxB8C&...   \n",
       "3  http://books.google.com/books?id=BViV0PoH_voC&...   \n",
       "4  http://books.google.com/books?id=3APTxiqamVYC&...   \n",
       "\n",
       "                                      authors  \n",
       "0                             [Gerald Davies]  \n",
       "1  [Kenneth C. Mansfield, James L. Antonakos]  \n",
       "2     [Lillian N. Cassel, Richard H. Austing]  \n",
       "3           [Gurdeep S. Hura, Mukesh Singhal]  \n",
       "4                           [James F. Kurose]  "
      ]
     },
     "execution_count": 51,
     "metadata": {},
     "output_type": "execute_result"
    }
   ],
   "source": [
    "df.head()"
   ]
  },
  {
   "cell_type": "markdown",
   "metadata": {},
   "source": [
    "## Youtube Videos"
   ]
  },
  {
   "cell_type": "code",
   "execution_count": 58,
   "metadata": {},
   "outputs": [],
   "source": [
    "from Video import Video\n",
    "\n",
    "video = Video()"
   ]
  },
  {
   "cell_type": "code",
   "execution_count": 54,
   "metadata": {},
   "outputs": [
    {
     "data": {
      "text/plain": [
       "['Computer Network and Security',\n",
       " 'Course Objective: To understand the concepts of computer networking, functions of different layers and protocols, and know the idea of IPV6 and security. Notes of various chapters of Computer Network compiled by teachers from IOE can be accessed from posts tagged under Computer Network.',\n",
       " '1. Introduction to Computer Network (5 hours)',\n",
       " '1.1 Uses of Computer Network',\n",
       " '1.2 Networking model client/server, p2p, active network',\n",
       " '1.3 Protocols and Standards',\n",
       " '1.4 OSI model and TCP/IP model',\n",
       " '1.5 Comparison of OSI and TCP/IP model',\n",
       " '1.6 Example network: The Internet, X.25, Frame Relay, Ethernet, VoIP, NGN and MPLS, xDSL.',\n",
       " '2. Physical Layer (5 hours)',\n",
       " '2.1 Network monitoring: delay, latency, throughput',\n",
       " '2.2 Transmission media: Twisted pair, Coaxial, Fiber optic, Line-of-site, Satellite',\n",
       " '2.3 Multiplexing, Circuit switching, Packet switching, VC Switching, Telecommunication switching system (Networking of Telephone exchanges)',\n",
       " '2.4 ISDN: Architecture, Interface, and Signaling',\n",
       " '3. Data Link Layer (5 hours)',\n",
       " '3.1 Functions of Data link layer',\n",
       " '3.2 Framing',\n",
       " '3.3 Error Detection and Corrections,',\n",
       " '3.4 Flow Control',\n",
       " '3.5 Examples of Data Link Protocol, HDLC, PPP',\n",
       " '3.6 The Medium Access Sub-layer',\n",
       " '3.7 The channel allocation problem',\n",
       " '3.8 Multiple Access Protocols',\n",
       " '3.9 Ethernet,',\n",
       " '3.10 Networks: FDDI, ALOHA, VLAN, CSMA/CD, IEEE 802.3(Ethernet), 802.4(Token Bus), 802.5(Token Ring), and 802.1(Wireless LAN).',\n",
       " '4. Network Layer (9 hours)',\n",
       " '4.1 Internetworking &devices: Repeaters, Hubs, Bridges, Switches, Router, Gateway',\n",
       " '4.2 Addressing: Internet address, classful address',\n",
       " '4.3 Subnetting',\n",
       " '4.4 Routing: techniques, static vs. dynamic routing , routing table for classful address',\n",
       " '4.5 Routing Protocols: RIP, OSPF, BGP, Unicast and multicast routing protocols',\n",
       " '4.6 Routing algorithms: shortest path algorithm, flooding, distance vector routing, link state routing; Protocols: ARP, RARP, IP, ICMP',\n",
       " '5. Transport Layer (5 hours)',\n",
       " '5.1 The transport service: Services provided to the upper layers',\n",
       " '5.2 Transport protocols: UDP, TCP',\n",
       " '5.3 Port and Socket',\n",
       " '5.4 Connection establishment, Connection release',\n",
       " '5.5 Flow control & buffering',\n",
       " '5.6 Multiplexing & de-multiplexing',\n",
       " '5.7 Congestion control algorithm: Token Bucket and Leaky BucketTransport Layer',\n",
       " '6. Application Layer (5 hours)',\n",
       " '6.1 Web: HTTP & HTTPS',\n",
       " '6.2 File Transfer: FTP, PuTTY, WinSCP',\n",
       " '6.3 Electronic Mail: SMTP, POP3, IMAP',\n",
       " '6.4 DNS',\n",
       " '6.5 P2PApplications',\n",
       " '6.6 Socket Programming',\n",
       " '6.7 Application server concept: proxy caching, Web/Mail/DNS server optimization',\n",
       " '6.8 Concept of traffic analyzer: MRTG, PRTG, SNMP, Packet tracer, Wireshark.',\n",
       " '7. Introduction to IPV6 (4 hours)',\n",
       " '7.1 IPv6- Advantages',\n",
       " '7.2 Packet formats',\n",
       " '7.3 Extension headers',\n",
       " '7.4 Transition from IPv4 to IPv6: Dual stack, Tunneling, Header Translation',\n",
       " '7.5 Multicasting',\n",
       " '8. Network Security (7 hours)',\n",
       " '8.1 Properties of secure communication',\n",
       " '8.2 Principles of cryptography: Symmetric Key and Public Key',\n",
       " '8.3 RSA Algorithm,',\n",
       " '8.4 Digital Signatures',\n",
       " '8.5 Securing e-mail (PGP)',\n",
       " '8.6 Securing TCP connections (SSL)',\n",
       " '8.7 Network layer security (IPsec, VPN)',\n",
       " '8.8 Securing wireless LANs (WEP)',\n",
       " '8.9 Firewalls: Application Gateway and Packet Filtering, and IDS']"
      ]
     },
     "execution_count": 54,
     "metadata": {},
     "output_type": "execute_result"
    }
   ],
   "source": [
    "chunks"
   ]
  },
  {
   "cell_type": "code",
   "execution_count": 59,
   "metadata": {},
   "outputs": [
    {
     "name": "stdout",
     "output_type": "stream",
     "text": [
      "Error: 403\n",
      "{'error': {'code': 403, 'message': 'The request cannot be completed because you have exceeded your <a href=\"/youtube/v3/getting-started#quota\">quota</a>.', 'errors': [{'message': 'The request cannot be completed because you have exceeded your <a href=\"/youtube/v3/getting-started#quota\">quota</a>.', 'domain': 'youtube.quota', 'reason': 'quotaExceeded'}]}}\n"
     ]
    },
    {
     "ename": "IndexError",
     "evalue": "list index out of range",
     "output_type": "error",
     "traceback": [
      "\u001b[1;31m---------------------------------------------------------------------------\u001b[0m",
      "\u001b[1;31mIndexError\u001b[0m                                Traceback (most recent call last)",
      "Cell \u001b[1;32mIn[59], line 7\u001b[0m\n\u001b[0;32m      4\u001b[0m result \u001b[38;5;241m=\u001b[39m video\u001b[38;5;241m.\u001b[39mfetch_youtube_links(keyword)\n\u001b[0;32m      5\u001b[0m \u001b[38;5;66;03m# print(keyword)\u001b[39;00m\n\u001b[0;32m      6\u001b[0m data \u001b[38;5;241m=\u001b[39m {\n\u001b[1;32m----> 7\u001b[0m     \u001b[38;5;124m\"\u001b[39m\u001b[38;5;124mtitle\u001b[39m\u001b[38;5;124m\"\u001b[39m : \u001b[43mresult\u001b[49m\u001b[43m[\u001b[49m\u001b[38;5;241;43m0\u001b[39;49m\u001b[43m]\u001b[49m,\n\u001b[0;32m      8\u001b[0m     \u001b[38;5;124m\"\u001b[39m\u001b[38;5;124mvideo_links\u001b[39m\u001b[38;5;124m\"\u001b[39m : result[\u001b[38;5;241m1\u001b[39m],\n\u001b[0;32m      9\u001b[0m     \u001b[38;5;124m\"\u001b[39m\u001b[38;5;124mthumbnails\u001b[39m\u001b[38;5;124m\"\u001b[39m : result[\u001b[38;5;241m2\u001b[39m]\n\u001b[0;32m     10\u001b[0m }\n\u001b[0;32m     11\u001b[0m df \u001b[38;5;241m=\u001b[39m pd\u001b[38;5;241m.\u001b[39mconcat([df, pd\u001b[38;5;241m.\u001b[39mDataFrame(data)], ignore_index\u001b[38;5;241m=\u001b[39m\u001b[38;5;28;01mTrue\u001b[39;00m)\n",
      "\u001b[1;31mIndexError\u001b[0m: list index out of range"
     ]
    }
   ],
   "source": [
    "df = pd.DataFrame()\n",
    "\n",
    "for keyword in chunks:\n",
    "    result = video.fetch_youtube_links(keyword)\n",
    "    # print(keyword)\n",
    "    data = {\n",
    "        \"title\" : result[0],\n",
    "        \"video_links\" : result[1],\n",
    "        \"thumbnails\" : result[2]\n",
    "    }\n",
    "    df = pd.concat([df, pd.DataFrame(data)], ignore_index=True)"
   ]
  },
  {
   "cell_type": "code",
   "execution_count": 63,
   "metadata": {},
   "outputs": [],
   "source": [
    "from llama_cpp import Llama"
   ]
  },
  {
   "cell_type": "code",
   "execution_count": 66,
   "metadata": {},
   "outputs": [
    {
     "ename": "OSError",
     "evalue": "exception: access violation reading 0x0000000000000000",
     "output_type": "error",
     "traceback": [
      "\u001b[1;31m---------------------------------------------------------------------------\u001b[0m",
      "\u001b[1;31mOSError\u001b[0m                                   Traceback (most recent call last)",
      "Cell \u001b[1;32mIn[66], line 1\u001b[0m\n\u001b[1;32m----> 1\u001b[0m llm \u001b[38;5;241m=\u001b[39m \u001b[43mLlama\u001b[49m\u001b[43m(\u001b[49m\n\u001b[0;32m      2\u001b[0m \u001b[43m      \u001b[49m\u001b[43mmodel_path\u001b[49m\u001b[38;5;241;43m=\u001b[39;49m\u001b[38;5;124;43m\"\u001b[39;49m\u001b[38;5;124;43mC:\u001b[39;49m\u001b[38;5;130;43;01m\\\\\u001b[39;49;00m\u001b[38;5;124;43mUsers\u001b[39;49m\u001b[38;5;130;43;01m\\\\\u001b[39;49;00m\u001b[38;5;124;43machar\u001b[39;49m\u001b[38;5;130;43;01m\\\\\u001b[39;49;00m\u001b[38;5;124;43mDristi-Hackathon\u001b[39;49m\u001b[38;5;130;43;01m\\\\\u001b[39;49;00m\u001b[38;5;124;43munsloth.Q8_0.gguf\u001b[39;49m\u001b[38;5;124;43m\"\u001b[39;49m\n\u001b[0;32m      3\u001b[0m \u001b[43m      \u001b[49m\u001b[38;5;66;43;03m# n_gpu_layers=-1, # Uncomment to use GPU acceleration\u001b[39;49;00m\n\u001b[0;32m      4\u001b[0m \u001b[43m      \u001b[49m\u001b[38;5;66;43;03m# seed=1337, # Uncomment to set a specific seed\u001b[39;49;00m\n\u001b[0;32m      5\u001b[0m \u001b[43m      \u001b[49m\u001b[38;5;66;43;03m# n_ctx=2048, # Uncomment to increase the context window\u001b[39;49;00m\n\u001b[0;32m      6\u001b[0m \u001b[43m)\u001b[49m\n",
      "File \u001b[1;32mc:\\Users\\achar\\Dristi-Hackathon\\myenv\\Lib\\site-packages\\llama_cpp\\llama.py:202\u001b[0m, in \u001b[0;36mLlama.__init__\u001b[1;34m(self, model_path, n_gpu_layers, split_mode, main_gpu, tensor_split, rpc_servers, vocab_only, use_mmap, use_mlock, kv_overrides, seed, n_ctx, n_batch, n_ubatch, n_threads, n_threads_batch, rope_scaling_type, pooling_type, rope_freq_base, rope_freq_scale, yarn_ext_factor, yarn_attn_factor, yarn_beta_fast, yarn_beta_slow, yarn_orig_ctx, logits_all, embedding, offload_kqv, flash_attn, last_n_tokens_size, lora_base, lora_scale, lora_path, numa, chat_format, chat_handler, draft_model, tokenizer, type_k, type_v, spm_infill, verbose, **kwargs)\u001b[0m\n\u001b[0;32m    200\u001b[0m \u001b[38;5;28;01mif\u001b[39;00m \u001b[38;5;129;01mnot\u001b[39;00m Llama\u001b[38;5;241m.\u001b[39m__backend_initialized:\n\u001b[0;32m    201\u001b[0m     \u001b[38;5;28;01mwith\u001b[39;00m suppress_stdout_stderr(disable\u001b[38;5;241m=\u001b[39mverbose):\n\u001b[1;32m--> 202\u001b[0m         \u001b[43mllama_cpp\u001b[49m\u001b[38;5;241;43m.\u001b[39;49m\u001b[43mllama_backend_init\u001b[49m\u001b[43m(\u001b[49m\u001b[43m)\u001b[49m\n\u001b[0;32m    203\u001b[0m     Llama\u001b[38;5;241m.\u001b[39m__backend_initialized \u001b[38;5;241m=\u001b[39m \u001b[38;5;28;01mTrue\u001b[39;00m\n\u001b[0;32m    205\u001b[0m \u001b[38;5;28;01mif\u001b[39;00m \u001b[38;5;28misinstance\u001b[39m(numa, \u001b[38;5;28mbool\u001b[39m):\n",
      "\u001b[1;31mOSError\u001b[0m: exception: access violation reading 0x0000000000000000"
     ]
    }
   ],
   "source": [
    "llm = Llama(\n",
    "      model_path=\"C:\\\\Users\\\\achar\\\\Dristi-Hackathon\\\\unsloth.Q8_0.gguf\"\n",
    "      # n_gpu_layers=-1, # Uncomment to use GPU acceleration\n",
    "      # seed=1337, # Uncomment to set a specific seed\n",
    "      # n_ctx=2048, # Uncomment to increase the context window\n",
    ")"
   ]
  },
  {
   "cell_type": "code",
   "execution_count": 3,
   "metadata": {},
   "outputs": [
    {
     "name": "stdout",
     "output_type": "stream",
     "text": [
      "Instantiated\n",
      "In remove numbers and punctutations\n",
      "['Computer Network and Security', 'Course Objective To understand the concepts of computer networking functions of different layers and protocols and know the idea of IPV6 and security Notes of various chapters of Computer Network compiled by teachers from IOE can be accessed from posts tagged under Computer Network', 'Introduction to Computer Network 5 hours', 'Uses of Computer Network', 'Networking model clientserver p2p active network', 'Protocols and Standards', 'OSI model and TCPIP model', 'Comparison of OSI and TCPIP model', 'Example network The Internet X25 Frame Relay Ethernet VoIP NGN and MPLS xDSL', 'Physical Layer 5 hours', 'Network monitoring delay latency throughput', 'Transmission media Twisted pair Coaxial Fiber optic Lineofsite Satellite', 'Multiplexing Circuit switching Packet switching VC Switching Telecommunication switching system Networking of Telephone exchanges', 'ISDN Architecture Interface and Signaling', 'Data Link Layer 5 hours', 'Functions of Data link layer', 'Framing', 'Error Detection and Corrections', 'Flow Control', 'Examples of Data Link Protocol HDLC PPP', 'The Medium Access Sublayer', 'The channel allocation problem', 'Multiple Access Protocols', 'Ethernet', 'Networks FDDI ALOHA VLAN CSMACD IEEE 8023Ethernet 8024Token Bus 8025Token Ring and 8021Wireless LAN', 'Network Layer 9 hours', 'Internetworking devices Repeaters Hubs Bridges Switches Router Gateway', 'Addressing Internet address classful address', 'Subnetting', 'Routing techniques static vs dynamic routing  routing table for classful address', 'Routing Protocols RIP OSPF BGP Unicast and multicast routing protocols', 'Routing algorithms shortest path algorithm flooding distance vector routing link state routing Protocols ARP RARP IP ICMP', 'Transport Layer 5 hours', 'The transport service Services provided to the upper layers', 'Transport protocols UDP TCP', 'Port and Socket', 'Connection establishment Connection release', 'Flow control  buffering', 'Multiplexing  demultiplexing', 'Congestion control algorithm Token Bucket and Leaky BucketTransport Layer', 'Application Layer 5 hours', 'Web HTTP  HTTPS', 'File Transfer FTP PuTTY WinSCP', 'Electronic Mail SMTP POP3 IMAP', 'DNS', 'P2PApplications', 'Socket Programming', 'Application server concept proxy caching WebMailDNS server optimization', 'Concept of traffic analyzer MRTG PRTG SNMP Packet tracer Wireshark', 'Introduction to IPV6 4 hours', 'IPv6 Advantages', 'Packet formats', 'Extension headers', 'Transition from IPv4 to IPv6 Dual stack Tunneling Header Translation', 'Multicasting', 'Network Security 7 hours', 'Properties of secure communication', 'Principles of cryptography Symmetric Key and Public Key', 'RSA Algorithm', 'Digital Signatures', 'Securing email PGP', 'Securing TCP connections SSL', 'Network layer security IPsec VPN', 'Securing wireless LANs WEP', 'Firewalls Application Gateway and Packet Filtering and IDS']\n"
     ]
    }
   ],
   "source": [
    "from Chunking import ChunkData"
   ]
  },
  {
   "cell_type": "code",
   "execution_count": 4,
   "metadata": {},
   "outputs": [],
   "source": [
    "with open(\"sample.txt\",\"r\") as file:\n",
    "    data = file.read()"
   ]
  },
  {
   "cell_type": "code",
   "execution_count": 5,
   "metadata": {},
   "outputs": [
    {
     "name": "stdout",
     "output_type": "stream",
     "text": [
      "Instantiated\n",
      "In remove numbers and punctutations\n"
     ]
    }
   ],
   "source": [
    "chunk_data = ChunkData()\n",
    "\n",
    "book_chunks = chunk_data.chunk_for_video(data)"
   ]
  },
  {
   "cell_type": "code",
   "execution_count": 6,
   "metadata": {},
   "outputs": [
    {
     "data": {
      "text/plain": [
       "['Computer Network and Security',\n",
       " 'Course Objective To understand the concepts of computer networking functions of different layers and protocols and know the idea of IPV6 and security Notes of various chapters of Computer Network compiled by teachers from IOE can be accessed from posts tagged under Computer Network',\n",
       " 'Introduction to Computer Network 5 hours',\n",
       " 'Uses of Computer Network',\n",
       " 'Networking model clientserver p2p active network',\n",
       " 'Protocols and Standards',\n",
       " 'OSI model and TCPIP model',\n",
       " 'Comparison of OSI and TCPIP model',\n",
       " 'Example network The Internet X25 Frame Relay Ethernet VoIP NGN and MPLS xDSL',\n",
       " 'Physical Layer 5 hours',\n",
       " 'Network monitoring delay latency throughput',\n",
       " 'Transmission media Twisted pair Coaxial Fiber optic Lineofsite Satellite',\n",
       " 'Multiplexing Circuit switching Packet switching VC Switching Telecommunication switching system Networking of Telephone exchanges',\n",
       " 'ISDN Architecture Interface and Signaling',\n",
       " 'Data Link Layer 5 hours',\n",
       " 'Functions of Data link layer',\n",
       " 'Framing',\n",
       " 'Error Detection and Corrections',\n",
       " 'Flow Control',\n",
       " 'Examples of Data Link Protocol HDLC PPP',\n",
       " 'The Medium Access Sublayer',\n",
       " 'The channel allocation problem',\n",
       " 'Multiple Access Protocols',\n",
       " 'Ethernet',\n",
       " 'Networks FDDI ALOHA VLAN CSMACD IEEE 8023Ethernet 8024Token Bus 8025Token Ring and 8021Wireless LAN',\n",
       " 'Network Layer 9 hours',\n",
       " 'Internetworking devices Repeaters Hubs Bridges Switches Router Gateway',\n",
       " 'Addressing Internet address classful address',\n",
       " 'Subnetting',\n",
       " 'Routing techniques static vs dynamic routing  routing table for classful address',\n",
       " 'Routing Protocols RIP OSPF BGP Unicast and multicast routing protocols',\n",
       " 'Routing algorithms shortest path algorithm flooding distance vector routing link state routing Protocols ARP RARP IP ICMP',\n",
       " 'Transport Layer 5 hours',\n",
       " 'The transport service Services provided to the upper layers',\n",
       " 'Transport protocols UDP TCP',\n",
       " 'Port and Socket',\n",
       " 'Connection establishment Connection release',\n",
       " 'Flow control  buffering',\n",
       " 'Multiplexing  demultiplexing',\n",
       " 'Congestion control algorithm Token Bucket and Leaky BucketTransport Layer',\n",
       " 'Application Layer 5 hours',\n",
       " 'Web HTTP  HTTPS',\n",
       " 'File Transfer FTP PuTTY WinSCP',\n",
       " 'Electronic Mail SMTP POP3 IMAP',\n",
       " 'DNS',\n",
       " 'P2PApplications',\n",
       " 'Socket Programming',\n",
       " 'Application server concept proxy caching WebMailDNS server optimization',\n",
       " 'Concept of traffic analyzer MRTG PRTG SNMP Packet tracer Wireshark',\n",
       " 'Introduction to IPV6 4 hours',\n",
       " 'IPv6 Advantages',\n",
       " 'Packet formats',\n",
       " 'Extension headers',\n",
       " 'Transition from IPv4 to IPv6 Dual stack Tunneling Header Translation',\n",
       " 'Multicasting',\n",
       " 'Network Security 7 hours',\n",
       " 'Properties of secure communication',\n",
       " 'Principles of cryptography Symmetric Key and Public Key',\n",
       " 'RSA Algorithm',\n",
       " 'Digital Signatures',\n",
       " 'Securing email PGP',\n",
       " 'Securing TCP connections SSL',\n",
       " 'Network layer security IPsec VPN',\n",
       " 'Securing wireless LANs WEP',\n",
       " 'Firewalls Application Gateway and Packet Filtering and IDS']"
      ]
     },
     "execution_count": 6,
     "metadata": {},
     "output_type": "execute_result"
    }
   ],
   "source": [
    "book_chunks"
   ]
  },
  {
   "cell_type": "code",
   "execution_count": 79,
   "metadata": {},
   "outputs": [
    {
     "data": {
      "text/plain": [
       "'Computer Network and Security\\nCourse Objective: To understand the concepts of computer networking, functions of different layers and protocols, and know the idea of IPV6 and security. Notes of various chapters of Computer Network compiled by teachers from IOE can be accessed from posts tagged under Computer Network.\\n\\n1. Introduction to Computer Network (5 hours)\\n1.1 Uses of Computer Network\\n1.2 Networking model client/server, p2p, active network\\n1.3 Protocols and Standards\\n1.4 OSI model and TCP/IP model\\n1.5 Comparison of OSI and TCP/IP model\\n1.6 Example network: The Internet, X.25, Frame Relay, Ethernet, VoIP, NGN and MPLS, xDSL.\\n\\n\\n2. Physical Layer (5 hours)\\n2.1 Network monitoring: delay, latency, throughput\\n2.2 Transmission media: Twisted pair, Coaxial, Fiber optic, Line-of-site, Satellite\\n2.3 Multiplexing, Circuit switching, Packet switching, VC Switching, Telecommunication switching system (Networking of Telephone exchanges)\\n2.4 ISDN: Architecture, Interface, and Signaling\\n\\n3. Data Link Layer (5 hours)\\n3.1 Functions of Data link layer\\n3.2 Framing\\n3.3 Error Detection and Corrections,\\n3.4 Flow Control\\n3.5 Examples of Data Link Protocol, HDLC, PPP\\n3.6 The Medium Access Sub-layer\\n3.7 The channel allocation problem\\n3.8 Multiple Access Protocols\\n3.9 Ethernet,\\n3.10 Networks: FDDI, ALOHA, VLAN, CSMA/CD, IEEE 802.3(Ethernet), 802.4(Token Bus), 802.5(Token Ring), and 802.1(Wireless LAN).\\n\\n4. Network Layer (9 hours)\\n4.1 Internetworking &devices: Repeaters, Hubs, Bridges, Switches, Router, Gateway\\n4.2 Addressing: Internet address, classful address\\n4.3 Subnetting\\n4.4 Routing: techniques, static vs. dynamic routing , routing table for classful address\\n4.5 Routing Protocols: RIP, OSPF, BGP, Unicast and multicast routing protocols\\n4.6 Routing algorithms: shortest path algorithm, flooding, distance vector routing, link state routing; Protocols: ARP, RARP, IP, ICMP\\n\\n5. Transport Layer (5 hours)\\n5.1 The transport service: Services provided to the upper layers\\n5.2 Transport protocols: UDP, TCP\\n5.3 Port and Socket\\n5.4 Connection establishment, Connection release\\n5.5 Flow control & buffering\\n5.6 Multiplexing & de-multiplexing\\n5.7 Congestion control algorithm: Token Bucket and Leaky BucketTransport Layer\\n\\n6. Application Layer (5 hours)\\n6.1 Web: HTTP & HTTPS\\n6.2 File Transfer: FTP, PuTTY, WinSCP\\n6.3 Electronic Mail: SMTP, POP3, IMAP\\n6.4 DNS\\n6.5 P2PApplications\\n6.6 Socket Programming\\n6.7 Application server concept: proxy caching, Web/Mail/DNS server optimization\\n6.8 Concept of traffic analyzer: MRTG, PRTG, SNMP, Packet tracer, Wireshark.\\n\\n7. Introduction to IPV6 (4 hours)\\n7.1 IPv6- Advantages\\n7.2 Packet formats\\n7.3 Extension headers\\n7.4 Transition from IPv4 to IPv6: Dual stack, Tunneling, Header Translation\\n7.5 Multicasting\\n\\n8. Network Security (7 hours)\\n8.1 Properties of secure communication\\n8.2 Principles of cryptography: Symmetric Key and Public Key\\n8.3 RSA Algorithm,\\n8.4 Digital Signatures\\n8.5 Securing e-mail (PGP)\\n8.6 Securing TCP connections (SSL)\\n8.7 Network layer security (IPsec, VPN)\\n8.8 Securing wireless LANs (WEP)\\n8.9 Firewalls: Application Gateway and Packet Filtering, and IDS'"
      ]
     },
     "execution_count": 79,
     "metadata": {},
     "output_type": "execute_result"
    }
   ],
   "source": [
    "data"
   ]
  },
  {
   "cell_type": "code",
   "execution_count": 3,
   "metadata": {},
   "outputs": [
    {
     "name": "stderr",
     "output_type": "stream",
     "text": [
      "c:\\Users\\achar\\Dristi-Hackathon\\myenv\\Lib\\site-packages\\tqdm\\auto.py:21: TqdmWarning: IProgress not found. Please update jupyter and ipywidgets. See https://ipywidgets.readthedocs.io/en/stable/user_install.html\n",
      "  from .autonotebook import tqdm as notebook_tqdm\n"
     ]
    }
   ],
   "source": [
    "import pandas as pd\n",
    "\n",
    "df = pd.read_json(\"hf://datasets/yahma/alpaca-cleaned/alpaca_data_cleaned.json\")"
   ]
  },
  {
   "cell_type": "code",
   "execution_count": 4,
   "metadata": {},
   "outputs": [
    {
     "name": "stdout",
     "output_type": "stream",
     "text": [
      "<class 'pandas.core.frame.DataFrame'>\n",
      "RangeIndex: 51760 entries, 0 to 51759\n",
      "Data columns (total 3 columns):\n",
      " #   Column       Non-Null Count  Dtype \n",
      "---  ------       --------------  ----- \n",
      " 0   instruction  51760 non-null  object\n",
      " 1   input        51760 non-null  object\n",
      " 2   output       51760 non-null  object\n",
      "dtypes: object(3)\n",
      "memory usage: 1.2+ MB\n"
     ]
    }
   ],
   "source": [
    "df.info()"
   ]
  },
  {
   "cell_type": "code",
   "execution_count": 15,
   "metadata": {},
   "outputs": [
    {
     "data": {
      "text/html": [
       "<div>\n",
       "<style scoped>\n",
       "    .dataframe tbody tr th:only-of-type {\n",
       "        vertical-align: middle;\n",
       "    }\n",
       "\n",
       "    .dataframe tbody tr th {\n",
       "        vertical-align: top;\n",
       "    }\n",
       "\n",
       "    .dataframe thead th {\n",
       "        text-align: right;\n",
       "    }\n",
       "</style>\n",
       "<table border=\"1\" class=\"dataframe\">\n",
       "  <thead>\n",
       "    <tr style=\"text-align: right;\">\n",
       "      <th></th>\n",
       "      <th>instruction</th>\n",
       "      <th>input</th>\n",
       "      <th>output</th>\n",
       "    </tr>\n",
       "  </thead>\n",
       "  <tbody>\n",
       "    <tr>\n",
       "      <th>0</th>\n",
       "      <td>Give three tips for staying healthy.</td>\n",
       "      <td></td>\n",
       "      <td>1. Eat a balanced and nutritious diet: Make su...</td>\n",
       "    </tr>\n",
       "    <tr>\n",
       "      <th>1</th>\n",
       "      <td>What are the three primary colors?</td>\n",
       "      <td></td>\n",
       "      <td>The three primary colors are red, blue, and ye...</td>\n",
       "    </tr>\n",
       "    <tr>\n",
       "      <th>2</th>\n",
       "      <td>Describe the structure of an atom.</td>\n",
       "      <td></td>\n",
       "      <td>An atom is the basic building block of all mat...</td>\n",
       "    </tr>\n",
       "    <tr>\n",
       "      <th>3</th>\n",
       "      <td>How can we reduce air pollution?</td>\n",
       "      <td></td>\n",
       "      <td>There are several ways to reduce air pollution...</td>\n",
       "    </tr>\n",
       "    <tr>\n",
       "      <th>4</th>\n",
       "      <td>Pretend you are a project manager of a constru...</td>\n",
       "      <td></td>\n",
       "      <td>I had to make a difficult decision when I was ...</td>\n",
       "    </tr>\n",
       "  </tbody>\n",
       "</table>\n",
       "</div>"
      ],
      "text/plain": [
       "                                         instruction input  \\\n",
       "0               Give three tips for staying healthy.         \n",
       "1                 What are the three primary colors?         \n",
       "2                 Describe the structure of an atom.         \n",
       "3                   How can we reduce air pollution?         \n",
       "4  Pretend you are a project manager of a constru...         \n",
       "\n",
       "                                              output  \n",
       "0  1. Eat a balanced and nutritious diet: Make su...  \n",
       "1  The three primary colors are red, blue, and ye...  \n",
       "2  An atom is the basic building block of all mat...  \n",
       "3  There are several ways to reduce air pollution...  \n",
       "4  I had to make a difficult decision when I was ...  "
      ]
     },
     "execution_count": 15,
     "metadata": {},
     "output_type": "execute_result"
    }
   ],
   "source": [
    "df.head()"
   ]
  },
  {
   "cell_type": "code",
   "execution_count": 5,
   "metadata": {},
   "outputs": [],
   "source": [
    "import pandas as pd\n",
    "\n",
    "splits = {'train': 'data/train-00000-of-00001.parquet', 'test': 'data/test-00000-of-00001.parquet'}\n",
    "df_nepali = pd.read_parquet(\"hf://datasets/ibibek/nepali_alpaca/\" + splits[\"train\"])"
   ]
  },
  {
   "cell_type": "code",
   "execution_count": 9,
   "metadata": {},
   "outputs": [],
   "source": [
    "df_nepali.drop(columns=[\"id\",\"text\"],inplace=True)"
   ]
  },
  {
   "cell_type": "code",
   "execution_count": 13,
   "metadata": {},
   "outputs": [
    {
     "data": {
      "text/html": [
       "<div>\n",
       "<style scoped>\n",
       "    .dataframe tbody tr th:only-of-type {\n",
       "        vertical-align: middle;\n",
       "    }\n",
       "\n",
       "    .dataframe tbody tr th {\n",
       "        vertical-align: top;\n",
       "    }\n",
       "\n",
       "    .dataframe thead th {\n",
       "        text-align: right;\n",
       "    }\n",
       "</style>\n",
       "<table border=\"1\" class=\"dataframe\">\n",
       "  <thead>\n",
       "    <tr style=\"text-align: right;\">\n",
       "      <th></th>\n",
       "      <th>instruction</th>\n",
       "      <th>input</th>\n",
       "      <th>output</th>\n",
       "    </tr>\n",
       "  </thead>\n",
       "  <tbody>\n",
       "    <tr>\n",
       "      <th>0</th>\n",
       "      <td>क्लाउड कम्प्युटिङ प्रयोग गर्ने तीनवटा फाइदाहरू...</td>\n",
       "      <td></td>\n",
       "      <td>1. स्केलेबिलिटी र लचिलोपन: क्लाउड कम्प्युटिङले...</td>\n",
       "    </tr>\n",
       "    <tr>\n",
       "      <th>1</th>\n",
       "      <td>हालको अमेरिकी संघीय आयकर प्रणालीको उद्देश्य व...</td>\n",
       "      <td></td>\n",
       "      <td>हालको अमेरिकी संघीय आयकर प्रणालीको उद्देश्य वि...</td>\n",
       "    </tr>\n",
       "    <tr>\n",
       "      <th>2</th>\n",
       "      <td>एप्पल र सुन्तला को सबै भन्दा कम सामान्य पूर्व...</td>\n",
       "      <td></td>\n",
       "      <td>एप्पल र सुन्तला फलफूलका रूखहरूको दुई भिन्न र अ...</td>\n",
       "    </tr>\n",
       "    <tr>\n",
       "      <th>3</th>\n",
       "      <td>Create a spreadsheet to track sales goals for ...</td>\n",
       "      <td></td>\n",
       "      <td>Here is an example of a spreadsheet to track s...</td>\n",
       "    </tr>\n",
       "    <tr>\n",
       "      <th>4</th>\n",
       "      <td>क्रेप बनाउने प्रक्रिया वर्णन गर्नुहोस्।</td>\n",
       "      <td></td>\n",
       "      <td>crepes बनाउन एक सजिलो र स्वादिष्ट प्रक्रिया हो...</td>\n",
       "    </tr>\n",
       "  </tbody>\n",
       "</table>\n",
       "</div>"
      ],
      "text/plain": [
       "                                         instruction input  \\\n",
       "0  क्लाउड कम्प्युटिङ प्रयोग गर्ने तीनवटा फाइदाहरू...         \n",
       "1   हालको अमेरिकी संघीय आयकर प्रणालीको उद्देश्य व...         \n",
       "2   एप्पल र सुन्तला को सबै भन्दा कम सामान्य पूर्व...         \n",
       "3  Create a spreadsheet to track sales goals for ...         \n",
       "4            क्रेप बनाउने प्रक्रिया वर्णन गर्नुहोस्।         \n",
       "\n",
       "                                              output  \n",
       "0  1. स्केलेबिलिटी र लचिलोपन: क्लाउड कम्प्युटिङले...  \n",
       "1  हालको अमेरिकी संघीय आयकर प्रणालीको उद्देश्य वि...  \n",
       "2  एप्पल र सुन्तला फलफूलका रूखहरूको दुई भिन्न र अ...  \n",
       "3  Here is an example of a spreadsheet to track s...  \n",
       "4  crepes बनाउन एक सजिलो र स्वादिष्ट प्रक्रिया हो...  "
      ]
     },
     "execution_count": 13,
     "metadata": {},
     "output_type": "execute_result"
    }
   ],
   "source": [
    "df_nepali.head()"
   ]
  },
  {
   "cell_type": "code",
   "execution_count": 16,
   "metadata": {},
   "outputs": [],
   "source": [
    "df_combined = pd.concat([df, df_nepali])"
   ]
  },
  {
   "cell_type": "code",
   "execution_count": 17,
   "metadata": {},
   "outputs": [
    {
     "name": "stdout",
     "output_type": "stream",
     "text": [
      "<class 'pandas.core.frame.DataFrame'>\n",
      "Index: 101361 entries, 0 to 49600\n",
      "Data columns (total 3 columns):\n",
      " #   Column       Non-Null Count   Dtype \n",
      "---  ------       --------------   ----- \n",
      " 0   instruction  101361 non-null  object\n",
      " 1   input        101361 non-null  object\n",
      " 2   output       101361 non-null  object\n",
      "dtypes: object(3)\n",
      "memory usage: 3.1+ MB\n"
     ]
    }
   ],
   "source": [
    "df_combined.info()"
   ]
  },
  {
   "cell_type": "code",
   "execution_count": 18,
   "metadata": {},
   "outputs": [],
   "source": [
    "df_shuffled = df_combined.sample(frac=1).reset_index(drop=True)"
   ]
  },
  {
   "cell_type": "code",
   "execution_count": 28,
   "metadata": {},
   "outputs": [
    {
     "data": {
      "text/html": [
       "<div>\n",
       "<style scoped>\n",
       "    .dataframe tbody tr th:only-of-type {\n",
       "        vertical-align: middle;\n",
       "    }\n",
       "\n",
       "    .dataframe tbody tr th {\n",
       "        vertical-align: top;\n",
       "    }\n",
       "\n",
       "    .dataframe thead th {\n",
       "        text-align: right;\n",
       "    }\n",
       "</style>\n",
       "<table border=\"1\" class=\"dataframe\">\n",
       "  <thead>\n",
       "    <tr style=\"text-align: right;\">\n",
       "      <th></th>\n",
       "      <th>instruction</th>\n",
       "      <th>input</th>\n",
       "      <th>output</th>\n",
       "    </tr>\n",
       "  </thead>\n",
       "  <tbody>\n",
       "    <tr>\n",
       "      <th>40937</th>\n",
       "      <td>Sketch the layout of a house.</td>\n",
       "      <td></td>\n",
       "      <td>As an AI assistnat, I'm an language model and ...</td>\n",
       "    </tr>\n",
       "    <tr>\n",
       "      <th>75555</th>\n",
       "      <td>फ्रान्सेली टोस्ट कसरी तयार गर्ने भनेर व्याख्या...</td>\n",
       "      <td></td>\n",
       "      <td>फ्रेन्च टोस्ट एक स्वादिष्ट र सजिलो ब्रेकफास्ट ...</td>\n",
       "    </tr>\n",
       "    <tr>\n",
       "      <th>38068</th>\n",
       "      <td>कसैको लागि प्रशंसा देखाउनको लागि रचनात्मक तरि...</td>\n",
       "      <td></td>\n",
       "      <td>कसैको लागि प्रशंसा देखाउने एउटा रचनात्मक तरिका...</td>\n",
       "    </tr>\n",
       "    <tr>\n",
       "      <th>79050</th>\n",
       "      <td>दिइएको शब्दहरू प्रयोग गर्ने तीन लाइनको कविता ...</td>\n",
       "      <td>दु:ख, बिर्सियो साथीहरू।</td>\n",
       "      <td>दु:खले मन भरीरहेछ, अब छटपटाइरहेको छ, साथीहरूस...</td>\n",
       "    </tr>\n",
       "    <tr>\n",
       "      <th>86427</th>\n",
       "      <td>What is a feasible solution for cost reduction?</td>\n",
       "      <td></td>\n",
       "      <td>A feasible solution for cost reduction can var...</td>\n",
       "    </tr>\n",
       "    <tr>\n",
       "      <th>81853</th>\n",
       "      <td>Find a recipe for a vegetarian soup.</td>\n",
       "      <td></td>\n",
       "      <td>Here is a simple and delicious recipe for a ve...</td>\n",
       "    </tr>\n",
       "    <tr>\n",
       "      <th>47631</th>\n",
       "      <td>दिइएको शब्दको लागि समानार्थी शब्द प्रदान गर्न...</td>\n",
       "      <td>सहायक</td>\n",
       "      <td>यसमा थप्नुहोस्</td>\n",
       "    </tr>\n",
       "    <tr>\n",
       "      <th>50434</th>\n",
       "      <td>एक सामाजिक मिडिया पोस्ट सिर्जना गर्नुहोस् जसले...</td>\n",
       "      <td></td>\n",
       "      <td>\"आउनुहोस् हात मिलाउनुहोस् र सार्वजनिक यातायात...</td>\n",
       "    </tr>\n",
       "    <tr>\n",
       "      <th>27381</th>\n",
       "      <td>दिइएको इनपुटको प्रतिक्रियामा हाइकु रचना गर्नु...</td>\n",
       "      <td>रुखबाट झर्ने पातहरू।</td>\n",
       "      <td>पातहरू घुम्छ र ग्लाइड गर्छ, भुइँमा बिस्तारै ब...</td>\n",
       "    </tr>\n",
       "    <tr>\n",
       "      <th>51244</th>\n",
       "      <td>आवरण पत्रको सामान्य ढाँचा के हो?</td>\n",
       "      <td></td>\n",
       "      <td>कभर लेटर सामान्यतया एक पृष्ठको कागजात हो जुन क...</td>\n",
       "    </tr>\n",
       "  </tbody>\n",
       "</table>\n",
       "</div>"
      ],
      "text/plain": [
       "                                             instruction  \\\n",
       "40937                      Sketch the layout of a house.   \n",
       "75555  फ्रान्सेली टोस्ट कसरी तयार गर्ने भनेर व्याख्या...   \n",
       "38068   कसैको लागि प्रशंसा देखाउनको लागि रचनात्मक तरि...   \n",
       "79050   दिइएको शब्दहरू प्रयोग गर्ने तीन लाइनको कविता ...   \n",
       "86427    What is a feasible solution for cost reduction?   \n",
       "81853               Find a recipe for a vegetarian soup.   \n",
       "47631   दिइएको शब्दको लागि समानार्थी शब्द प्रदान गर्न...   \n",
       "50434  एक सामाजिक मिडिया पोस्ट सिर्जना गर्नुहोस् जसले...   \n",
       "27381   दिइएको इनपुटको प्रतिक्रियामा हाइकु रचना गर्नु...   \n",
       "51244                   आवरण पत्रको सामान्य ढाँचा के हो?   \n",
       "\n",
       "                          input  \\\n",
       "40937                             \n",
       "75555                             \n",
       "38068                             \n",
       "79050   दु:ख, बिर्सियो साथीहरू।   \n",
       "86427                             \n",
       "81853                             \n",
       "47631                     सहायक   \n",
       "50434                             \n",
       "27381      रुखबाट झर्ने पातहरू।   \n",
       "51244                             \n",
       "\n",
       "                                                  output  \n",
       "40937  As an AI assistnat, I'm an language model and ...  \n",
       "75555  फ्रेन्च टोस्ट एक स्वादिष्ट र सजिलो ब्रेकफास्ट ...  \n",
       "38068  कसैको लागि प्रशंसा देखाउने एउटा रचनात्मक तरिका...  \n",
       "79050   दु:खले मन भरीरहेछ, अब छटपटाइरहेको छ, साथीहरूस...  \n",
       "86427  A feasible solution for cost reduction can var...  \n",
       "81853  Here is a simple and delicious recipe for a ve...  \n",
       "47631                                     यसमा थप्नुहोस्  \n",
       "50434   \"आउनुहोस् हात मिलाउनुहोस् र सार्वजनिक यातायात...  \n",
       "27381   पातहरू घुम्छ र ग्लाइड गर्छ, भुइँमा बिस्तारै ब...  \n",
       "51244  कभर लेटर सामान्यतया एक पृष्ठको कागजात हो जुन क...  "
      ]
     },
     "execution_count": 28,
     "metadata": {},
     "output_type": "execute_result"
    }
   ],
   "source": [
    "df_shuffled.sample(10)"
   ]
  },
  {
   "cell_type": "code",
   "execution_count": 30,
   "metadata": {},
   "outputs": [],
   "source": [
    "import numpy as np\n",
    "df_shuffled.replace(\"...\",np.nan, inplace=True)"
   ]
  },
  {
   "cell_type": "code",
   "execution_count": 31,
   "metadata": {},
   "outputs": [
    {
     "name": "stdout",
     "output_type": "stream",
     "text": [
      "<class 'pandas.core.frame.DataFrame'>\n",
      "RangeIndex: 101361 entries, 0 to 101360\n",
      "Data columns (total 3 columns):\n",
      " #   Column       Non-Null Count   Dtype \n",
      "---  ------       --------------   ----- \n",
      " 0   instruction  101361 non-null  object\n",
      " 1   input        101361 non-null  object\n",
      " 2   output       101361 non-null  object\n",
      "dtypes: object(3)\n",
      "memory usage: 2.3+ MB\n"
     ]
    }
   ],
   "source": [
    "df_shuffled.info()"
   ]
  },
  {
   "cell_type": "code",
   "execution_count": 23,
   "metadata": {},
   "outputs": [],
   "source": [
    "df_shuffled.to_csv(\"alpaca_nepali_english_mix.csv\",index=False)"
   ]
  },
  {
   "cell_type": "code",
   "execution_count": 24,
   "metadata": {},
   "outputs": [],
   "source": [
    "df = pd.read_csv(\"alpaca_nepali_english_mix.csv\")"
   ]
  },
  {
   "cell_type": "code",
   "execution_count": 25,
   "metadata": {},
   "outputs": [
    {
     "data": {
      "text/html": [
       "<div>\n",
       "<style scoped>\n",
       "    .dataframe tbody tr th:only-of-type {\n",
       "        vertical-align: middle;\n",
       "    }\n",
       "\n",
       "    .dataframe tbody tr th {\n",
       "        vertical-align: top;\n",
       "    }\n",
       "\n",
       "    .dataframe thead th {\n",
       "        text-align: right;\n",
       "    }\n",
       "</style>\n",
       "<table border=\"1\" class=\"dataframe\">\n",
       "  <thead>\n",
       "    <tr style=\"text-align: right;\">\n",
       "      <th></th>\n",
       "      <th>instruction</th>\n",
       "      <th>input</th>\n",
       "      <th>output</th>\n",
       "    </tr>\n",
       "  </thead>\n",
       "  <tbody>\n",
       "    <tr>\n",
       "      <th>0</th>\n",
       "      <td>यो अनस्प्लास फोटोको विषयवस्तु वर्णन गर्ने एउटा...</td>\n",
       "      <td>https://unsplash.com/photos/3E_a4eteVMs</td>\n",
       "      <td>तस्बिरको चंचल विषयवस्तुले रंगीन समुद्र तट छात...</td>\n",
       "    </tr>\n",
       "    <tr>\n",
       "      <th>1</th>\n",
       "      <td>Calculate the discount percentage on this purc...</td>\n",
       "      <td>Item cost: $150\\nDiscount amount: $30</td>\n",
       "      <td>The discount percentage on this purchase will ...</td>\n",
       "    </tr>\n",
       "    <tr>\n",
       "      <th>2</th>\n",
       "      <td>Edit the following code to include a while loop</td>\n",
       "      <td>for (i = 0; i &lt; 10; i++)\\n{\\n    console.log(i...</td>\n",
       "      <td>One possible solution to include a while loop ...</td>\n",
       "    </tr>\n",
       "    <tr>\n",
       "      <th>3</th>\n",
       "      <td>Generate a sample of a marketing email given t...</td>\n",
       "      <td>Subject Line: Keep your photos safe and secure...</td>\n",
       "      <td>Dear valued customer,\\n\\nWarm greetings from o...</td>\n",
       "    </tr>\n",
       "    <tr>\n",
       "      <th>4</th>\n",
       "      <td>List three technologies that make life easier.</td>\n",
       "      <td>NaN</td>\n",
       "      <td>1. Smartphones - These all-in-one devices give...</td>\n",
       "    </tr>\n",
       "  </tbody>\n",
       "</table>\n",
       "</div>"
      ],
      "text/plain": [
       "                                         instruction  \\\n",
       "0  यो अनस्प्लास फोटोको विषयवस्तु वर्णन गर्ने एउटा...   \n",
       "1  Calculate the discount percentage on this purc...   \n",
       "2    Edit the following code to include a while loop   \n",
       "3  Generate a sample of a marketing email given t...   \n",
       "4     List three technologies that make life easier.   \n",
       "\n",
       "                                               input  \\\n",
       "0            https://unsplash.com/photos/3E_a4eteVMs   \n",
       "1              Item cost: $150\\nDiscount amount: $30   \n",
       "2  for (i = 0; i < 10; i++)\\n{\\n    console.log(i...   \n",
       "3  Subject Line: Keep your photos safe and secure...   \n",
       "4                                                NaN   \n",
       "\n",
       "                                              output  \n",
       "0   तस्बिरको चंचल विषयवस्तुले रंगीन समुद्र तट छात...  \n",
       "1  The discount percentage on this purchase will ...  \n",
       "2  One possible solution to include a while loop ...  \n",
       "3  Dear valued customer,\\n\\nWarm greetings from o...  \n",
       "4  1. Smartphones - These all-in-one devices give...  "
      ]
     },
     "execution_count": 25,
     "metadata": {},
     "output_type": "execute_result"
    }
   ],
   "source": [
    "df.head()"
   ]
  },
  {
   "cell_type": "code",
   "execution_count": 33,
   "metadata": {},
   "outputs": [
    {
     "name": "stdout",
     "output_type": "stream",
     "text": [
      "Error: 401 {\"detail\":{\"status\":\"invalid_authorization_header\",\"message\":\"Provided authorization header was invalid (Wrong number of segments in token: b'sk_3844d1e12127eb074eb5de6ae2916a6b07b0001ed1c4d5a9'): Bearer sk_3844d1e12127eb074eb5de6ae2916a6b07b0001ed1c4d5a9\"}}\n"
     ]
    }
   ],
   "source": [
    "import requests\n",
    "\n",
    "# Your API key\n",
    "api_key = \"sk_3844d1e12127eb074eb5de6ae2916a6b07b0001ed1c4d5a9\"\n",
    "\n",
    "# Set the API endpoint\n",
    "url = 'https://api.elevenlabs.io/v1/text-to-speech/convert'\n",
    "\n",
    "# Your input text that you want to convert to speech\n",
    "text = \"Hello, this is a test of Eleven Labs' text-to-speech API.\"\n",
    "\n",
    "# Define headers, including the API key for authentication\n",
    "headers = {\n",
    "    'Authorization': f'Bearer {api_key}',\n",
    "    'Content-Type': 'application/json'\n",
    "}\n",
    "\n",
    "# Define the payload with the required parameters\n",
    "data = {\n",
    "    'text': text,\n",
    "    'voice': 'en_us_male',  # You can select the voice here\n",
    "    'emotion': 'neutral',   # Optional: choose emotion (e.g., happy, neutral)\n",
    "}\n",
    "\n",
    "# Make the POST request\n",
    "response = requests.post(url, headers=headers, json=data)\n",
    "\n",
    "# Check if the request was successful\n",
    "if response.status_code == 200:\n",
    "    # Get the audio URL from the response\n",
    "    audio_url = response.json().get('audio_url')\n",
    "\n",
    "    # Now you can download or stream the audio from the URL\n",
    "    print(\"Audio generated successfully. You can access it here:\", audio_url)\n",
    "else:\n",
    "    print(\"Error:\", response.status_code, response.text)\n"
   ]
  },
  {
   "cell_type": "code",
   "execution_count": null,
   "metadata": {},
   "outputs": [],
   "source": []
  }
 ],
 "metadata": {
  "kernelspec": {
   "display_name": "myenv",
   "language": "python",
   "name": "python3"
  },
  "language_info": {
   "codemirror_mode": {
    "name": "ipython",
    "version": 3
   },
   "file_extension": ".py",
   "mimetype": "text/x-python",
   "name": "python",
   "nbconvert_exporter": "python",
   "pygments_lexer": "ipython3",
   "version": "3.13.0"
  }
 },
 "nbformat": 4,
 "nbformat_minor": 2
}
